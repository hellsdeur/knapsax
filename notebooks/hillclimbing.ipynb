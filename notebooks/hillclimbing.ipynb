{
 "cells": [
  {
   "cell_type": "code",
   "execution_count": 1,
   "id": "1f2a3fcb",
   "metadata": {},
   "outputs": [
    {
     "data": {
      "text/plain": [
       "'Directory knapsax successfully loaded as current working directory.'"
      ]
     },
     "execution_count": 1,
     "metadata": {},
     "output_type": "execute_result"
    }
   ],
   "source": [
    "# permite a utilização de caminhos relativos ao projeto, mesmo no diretório de notebooks\n",
    "\n",
    "from knapsax.utils import setrootdir\n",
    "\n",
    "setrootdir(\"knapsax\")"
   ]
  },
  {
   "cell_type": "code",
   "execution_count": 33,
   "id": "dcc107dd",
   "metadata": {},
   "outputs": [],
   "source": [
    "from typing import List, Tuple, Dict, Callable\n",
    "import random\n",
    "\n",
    "import numpy as np\n",
    "\n",
    "from knapsax.optimization import Problem, Maximize, Solution, Knapsack"
   ]
  },
  {
   "cell_type": "code",
   "execution_count": 3,
   "id": "aa883384",
   "metadata": {},
   "outputs": [
    {
     "data": {
      "text/plain": [
       "Knapsack(file=data/knapsack-instance.txt, n_items=100, capacity=1550)"
      ]
     },
     "execution_count": 3,
     "metadata": {},
     "output_type": "execute_result"
    }
   ],
   "source": [
    "knapsack = Knapsack(instance_file=\"data/knapsack-instance.txt\")\n",
    "knapsack"
   ]
  },
  {
   "cell_type": "code",
   "execution_count": 139,
   "id": "03030da2",
   "metadata": {},
   "outputs": [],
   "source": [
    "class HCSolution(Solution):\n",
    "    def __init__(self, knapsack: Knapsack):\n",
    "        super().__init__(knapsack)\n",
    "\n",
    "    def generate_solution(self):\n",
    "\n",
    "        self.shuffled_items = self.knapsack.items.copy()\n",
    "        random.shuffle(self.knapsack.items)\n",
    "\n",
    "        while self.total_weight <= self.knapsack.capacity and len(self.shuffled_items) > 0:\n",
    "            item = self.shuffled_items.pop(0)\n",
    "            if self.total_weight + item.weight <= self.knapsack.capacity:\n",
    "                self.x.append(item)\n",
    "                self.total_value += item.value\n",
    "                self.total_weight += item.weight\n",
    "                self.n_items += 1\n",
    "                random.shuffle(self.shuffled_items)\n",
    "            else:\n",
    "                self.shuffled_items.append(item)\n",
    "                break\n",
    "    \n",
    "    def move(self):\n",
    "\n",
    "        index_out = random.randint(0, len(self.x) - 1)\n",
    "        item_out = self.x.pop(index_out)\n",
    "        self.total_weight -= item_out.weight\n",
    "        self.total_value -= item_out.value\n",
    "        self.n_items -= 1\n",
    "        self.shuffled_items.append(item_out)\n",
    "        random.shuffle(self.shuffled_items)\n",
    "\n",
    "        while self.total_weight <= self.knapsack.capacity and len(self.shuffled_items) > 0:\n",
    "            item = self.shuffled_items[0]\n",
    "            if self.total_weight + item.weight <= self.knapsack.capacity:\n",
    "                self.shuffled_items.pop(0)\n",
    "                self.x.append(item)\n",
    "                self.total_value += item.value\n",
    "                self.total_weight += item.weight\n",
    "                self.n_items += 1\n",
    "                random.shuffle(self.shuffled_items)\n",
    "            else:\n",
    "                self.shuffled_items.append(item)\n",
    "                break"
   ]
  },
  {
   "cell_type": "code",
   "execution_count": 140,
   "id": "e1dbca90",
   "metadata": {},
   "outputs": [],
   "source": [
    "class HillClimbing:\n",
    "    def __init__(self, problem: Problem, knapsack: Knapsack, max_iterations: int = 1000):\n",
    "        self.problem = problem\n",
    "        self.knapsack = knapsack\n",
    "        self.max_iterations = max_iterations\n",
    "        self.n_iterations = 0\n",
    "        self._called = False\n",
    "        \n",
    "        self.initial_solution = self.best_solution = HCSolution(knapsack)\n",
    "        self.best_cost = self.best_solution.total_value\n",
    "        self.history = {\n",
    "            \"best_solution\": [],\n",
    "            \"best_cost\": [],\n",
    "        }\n",
    "\n",
    "    def run(self):\n",
    "\n",
    "        if self._called:\n",
    "            raise RuntimeError(\"This method can only be called once.\")\n",
    "\n",
    "        current_solution = self.initial_solution\n",
    "\n",
    "        while self.n_iterations < self.max_iterations:\n",
    "\n",
    "            current_solution.move()\n",
    "            new_cost = current_solution.total_value\n",
    "\n",
    "            if self.problem(new_cost, self.best_cost):\n",
    "                self.best_solution = current_solution\n",
    "                self.best_cost = new_cost\n",
    "\n",
    "            self.history[\"best_solution\"].append(self.best_solution)\n",
    "            self.history[\"best_cost\"].append(self.best_cost)\n",
    "                \n",
    "            self.n_iterations += 1\n",
    "        \n",
    "        self._called = True\n",
    "\n",
    "    def __str__(self):\n",
    "        return f\"Iteration: {self.n_iterations}\\n\\nBest cost: {self.best_cost}\\n\\nBest solution weight: {self.best_solution.total_weight}\\n\\nBest solution: {self.best_solution.x}\"\n",
    "    \n",
    "    def __repr__(self):\n",
    "        return f\"Iteration: {self.n_iterations}\\n\\nBest cost: {self.best_cost}\\n\\nBest solution weight: {self.best_solution.total_weight}\\n\\nBest solution: {self.best_solution.x}\""
   ]
  },
  {
   "cell_type": "code",
   "execution_count": 141,
   "id": "cb332acf",
   "metadata": {},
   "outputs": [
    {
     "data": {
      "text/plain": [
       "Iteration: 20000\n",
       "\n",
       "Best cost: 2022\n",
       "\n",
       "Best solution weight: 1540\n",
       "\n",
       "Best solution: [Item(value=76, weight=65), Item(value=80, weight=67), Item(value=80, weight=69), Item(value=49, weight=34), Item(value=85, weight=74), Item(value=88, weight=76), Item(value=72, weight=60), Item(value=92, weight=78), Item(value=65, weight=50), Item(value=61, weight=49), Item(value=78, weight=64), Item(value=80, weight=67), Item(value=94, weight=80), Item(value=92, weight=78), Item(value=69, weight=53), Item(value=94, weight=80), Item(value=81, weight=72), Item(value=62, weight=48), Item(value=95, weight=81), Item(value=92, weight=78), Item(value=94, weight=80), Item(value=70, weight=59), Item(value=92, weight=78)]"
      ]
     },
     "execution_count": 141,
     "metadata": {},
     "output_type": "execute_result"
    }
   ],
   "source": [
    "hc = HillClimbing(\n",
    "    problem=Maximize(),\n",
    "    knapsack=knapsack,\n",
    "    max_iterations=20_000,\n",
    ")\n",
    "\n",
    "hc.run()\n",
    "\n",
    "hc"
   ]
  }
 ],
 "metadata": {
  "kernelspec": {
   "display_name": ".venv",
   "language": "python",
   "name": "python3"
  },
  "language_info": {
   "codemirror_mode": {
    "name": "ipython",
    "version": 3
   },
   "file_extension": ".py",
   "mimetype": "text/x-python",
   "name": "python",
   "nbconvert_exporter": "python",
   "pygments_lexer": "ipython3",
   "version": "3.12.7"
  }
 },
 "nbformat": 4,
 "nbformat_minor": 5
}
