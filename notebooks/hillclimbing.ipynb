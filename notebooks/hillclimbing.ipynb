{
 "cells": [
  {
   "cell_type": "code",
   "execution_count": 1,
   "id": "1f2a3fcb",
   "metadata": {},
   "outputs": [
    {
     "data": {
      "text/plain": [
       "'Directory knapsax successfully loaded as current working directory.'"
      ]
     },
     "execution_count": 1,
     "metadata": {},
     "output_type": "execute_result"
    }
   ],
   "source": [
    "# permite a utilização de caminhos relativos ao projeto, mesmo no diretório de notebooks\n",
    "\n",
    "from knapsax.utils import setrootdir\n",
    "\n",
    "setrootdir(\"knapsax\")"
   ]
  },
  {
   "cell_type": "code",
   "execution_count": 2,
   "id": "dcc107dd",
   "metadata": {},
   "outputs": [],
   "source": [
    "from typing import List, Tuple, Dict, Callable\n",
    "import random\n",
    "import copy\n",
    "\n",
    "import numpy as np\n",
    "\n",
    "from knapsax.optimization import Problem, Maximize, Solution, Knapsack"
   ]
  },
  {
   "cell_type": "code",
   "execution_count": 3,
   "id": "aa883384",
   "metadata": {},
   "outputs": [
    {
     "data": {
      "text/plain": [
       "Knapsack(file=data/knapsack-instance.txt, n_items=100, capacity=1550)"
      ]
     },
     "execution_count": 3,
     "metadata": {},
     "output_type": "execute_result"
    }
   ],
   "source": [
    "knapsack = Knapsack(instance_file=\"data/knapsack-instance.txt\")\n",
    "knapsack"
   ]
  },
  {
   "cell_type": "code",
   "execution_count": 4,
   "id": "03030da2",
   "metadata": {},
   "outputs": [],
   "source": [
    "class HCSolution(Solution):\n",
    "    def __init__(self, knapsack):\n",
    "        super().__init__(knapsack)\n",
    "        self.available_items = []\n",
    "\n",
    "    def generate_solution(self):\n",
    "        self.available_items = list(range(self.knapsack.n_items))\n",
    "\n",
    "        random.shuffle(self.available_items)\n",
    "\n",
    "        while self.available_items:\n",
    "            item_index = self.available_items.pop(0)\n",
    "            if not self.add_item(item_index):\n",
    "                self.available_items.append(item_index)\n",
    "                break\n",
    "\n",
    "            random.shuffle(self.available_items)\n",
    "\n",
    "    def move(self):\n",
    "        if not self.items:\n",
    "            return\n",
    "\n",
    "        index_out = random.randint(0, len(self.items) - 1)\n",
    "        item_out = self.items.pop(index_out)\n",
    "        self.total_weight -= self.knapsack.items[item_out].weight\n",
    "        self.total_value -= self.knapsack.items[item_out].value\n",
    "\n",
    "        self.available_items.append(item_out)\n",
    "        random.shuffle(self.available_items)\n",
    "\n",
    "        while self.available_items:\n",
    "            item_index = self.available_items[0]\n",
    "            if self.total_weight + self.knapsack.items[item_index].weight <= self.knapsack.capacity:\n",
    "                self.available_items.pop(0)\n",
    "                self.add_item(item_index)\n",
    "                random.shuffle(self.available_items)\n",
    "            else:\n",
    "                self.available_items.append(item_index)\n",
    "                break"
   ]
  },
  {
   "cell_type": "code",
   "execution_count": 5,
   "id": "e1dbca90",
   "metadata": {},
   "outputs": [],
   "source": [
    "class HillClimbing:\n",
    "    def __init__(self, problem, knapsack, max_iterations=1000):\n",
    "        self.problem = problem\n",
    "        self.knapsack = knapsack\n",
    "        self.max_iterations = max_iterations\n",
    "        self.n_iterations = 0\n",
    "        self._called = False\n",
    "\n",
    "        self.initial_solution = HCSolution(knapsack)\n",
    "        self.initial_solution.generate_solution()\n",
    "\n",
    "        self.best_solution = copy.deepcopy(self.initial_solution)\n",
    "        self.best_cost = self.best_solution.total_value\n",
    "\n",
    "        self.history = {\n",
    "            \"best_solution\": [],\n",
    "            \"best_cost\": [],\n",
    "        }\n",
    "\n",
    "    def run(self):\n",
    "        if self._called:\n",
    "            raise RuntimeError(\"This method can only be called once.\")\n",
    "\n",
    "        current_solution = copy.deepcopy(self.initial_solution)\n",
    "\n",
    "        while self.n_iterations < self.max_iterations:\n",
    "            current_solution.move()\n",
    "            new_cost = current_solution.total_value\n",
    "\n",
    "            if self.problem(new_cost, self.best_cost):\n",
    "                self.best_solution = copy.deepcopy(current_solution)\n",
    "                self.best_cost = new_cost\n",
    "\n",
    "            self.history[\"best_solution\"].append(copy.deepcopy(self.best_solution))\n",
    "            self.history[\"best_cost\"].append(self.best_cost)\n",
    "\n",
    "            self.n_iterations += 1\n",
    "\n",
    "        self._called = True\n",
    "\n",
    "    def __str__(self):\n",
    "        return (f\"Iteration: {self.n_iterations}\\n\\n\"\n",
    "                f\"Best cost: {self.best_cost}\\n\\n\"\n",
    "                f\"Best solution weight: {self.best_solution.total_weight}\\n\\n\"\n",
    "                f\"Best solution: {self.best_solution.items}\")\n",
    "\n",
    "    def __repr__(self):\n",
    "        return self.__str__()\n"
   ]
  },
  {
   "cell_type": "code",
   "execution_count": 6,
   "id": "cb332acf",
   "metadata": {},
   "outputs": [
    {
     "data": {
      "text/plain": [
       "Iteration: 20000\n",
       "\n",
       "Best cost: 2037\n",
       "\n",
       "Best solution weight: 1541\n",
       "\n",
       "Best solution: [33, 27, 87, 56, 74, 55, 6, 24, 51, 16, 15, 83, 35, 11, 26, 79, 40, 22, 14, 53, 94, 3, 97, 37, 95, 5, 63, 4, 75, 29, 20, 92, 57, 85, 60, 12, 13, 99, 68, 2]"
      ]
     },
     "execution_count": 6,
     "metadata": {},
     "output_type": "execute_result"
    }
   ],
   "source": [
    "hc = HillClimbing(\n",
    "    problem=Maximize(),\n",
    "    knapsack=knapsack,\n",
    "    max_iterations=20_000,\n",
    ")\n",
    "\n",
    "hc.run()\n",
    "\n",
    "hc"
   ]
  }
 ],
 "metadata": {
  "kernelspec": {
   "display_name": ".venv",
   "language": "python",
   "name": "python3"
  },
  "language_info": {
   "codemirror_mode": {
    "name": "ipython",
    "version": 3
   },
   "file_extension": ".py",
   "mimetype": "text/x-python",
   "name": "python",
   "nbconvert_exporter": "python",
   "pygments_lexer": "ipython3",
   "version": "3.12.7"
  }
 },
 "nbformat": 4,
 "nbformat_minor": 5
}
