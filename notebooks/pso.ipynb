{
 "cells": [
  {
   "cell_type": "code",
   "execution_count": 22,
   "id": "a9633ade",
   "metadata": {
    "ExecuteTime": {
     "end_time": "2025-05-25T21:23:53.269116Z",
     "start_time": "2025-05-25T21:23:53.258861Z"
    }
   },
   "outputs": [
    {
     "data": {
      "text/plain": [
       "'Directory knapsax successfully loaded as current working directory.'"
      ]
     },
     "execution_count": 22,
     "metadata": {},
     "output_type": "execute_result"
    }
   ],
   "source": [
    "# permite a utilização de caminhos relativos ao projeto, mesmo no diretório de notebooks\n",
    "\n",
    "import numpy as np\n",
    "import random\n",
    "from knapsax.optimization import Knapsack\n",
    "import matplotlib.pyplot as plt\n",
    "from knapsax.pso import PSO\n",
    "import time\n",
    "from tqdm import tqdm\n",
    "import tracemalloc\n",
    "\n",
    "import pandas as pd\n",
    "import seaborn as sns\n",
    "\n",
    "from knapsax.utils import setrootdir\n",
    "\n",
    "setrootdir(\"knapsax\")"
   ]
  },
  {
   "cell_type": "code",
   "execution_count": 2,
   "id": "a7fa2d2c63bba3e3",
   "metadata": {
    "ExecuteTime": {
     "end_time": "2025-05-25T21:23:53.314123Z",
     "start_time": "2025-05-25T21:23:53.298149Z"
    }
   },
   "outputs": [
    {
     "data": {
      "text/plain": [
       "Knapsack(file=data/knapsack-instance.txt, n_items=100, capacity=1550)"
      ]
     },
     "execution_count": 2,
     "metadata": {},
     "output_type": "execute_result"
    }
   ],
   "source": [
    "knapsack = Knapsack(instance_file=\"data/knapsack-instance.txt\")\n",
    "knapsack"
   ]
  },
  {
   "cell_type": "code",
   "execution_count": 3,
   "id": "af06145a-4465-48da-b1ec-e69ad0e4d9ef",
   "metadata": {
    "ExecuteTime": {
     "end_time": "2025-05-25T21:23:53.383451Z",
     "start_time": "2025-05-25T21:23:53.377591Z"
    }
   },
   "outputs": [],
   "source": [
    "capacity = knapsack.capacity\n",
    "\n",
    "values = [item.value for item in knapsack.items]\n",
    "weights = [item.weight for item in knapsack.items]"
   ]
  },
  {
   "cell_type": "markdown",
   "id": "82c60d21",
   "metadata": {},
   "source": [
    "# Resultados"
   ]
  },
  {
   "cell_type": "code",
   "execution_count": 13,
   "id": "7d59e28a",
   "metadata": {},
   "outputs": [],
   "source": [
    "pso = PSO(knapsack, num_particles=30)\n",
    "\n",
    "items, best_value, best_weight = pso.run()"
   ]
  },
  {
   "cell_type": "code",
   "execution_count": 10,
   "id": "ab415fa6",
   "metadata": {},
   "outputs": [
    {
     "name": "stdout",
     "output_type": "stream",
     "text": [
      "Items: [Item(value=81, weight=58), Item(value=50, weight=35), Item(value=30, weight=15), Item(value=44, weight=28), Item(value=25, weight=19), Item(value=88, weight=66), Item(value=55, weight=40), Item(value=33, weight=23), Item(value=18, weight=12), Item(value=42, weight=31), Item(value=51, weight=37), Item(value=68, weight=54), Item(value=39, weight=25), Item(value=58, weight=43), Item(value=29, weight=21), Item(value=64, weight=48), Item(value=47, weight=33), Item(value=40, weight=27), Item(value=63, weight=47), Item(value=45, weight=29), Item(value=22, weight=14), Item(value=52, weight=36), Item(value=61, weight=49), Item(value=48, weight=32), Item(value=57, weight=42), Item(value=24, weight=17), Item(value=53, weight=38), Item(value=28, weight=20), Item(value=49, weight=34), Item(value=41, weight=26), Item(value=59, weight=44), Item(value=46, weight=30), Item(value=34, weight=22), Item(value=56, weight=41), Item(value=17, weight=11), Item(value=16, weight=10), Item(value=68, weight=54), Item(value=50, weight=35), Item(value=27, weight=19), Item(value=62, weight=48), Item(value=43, weight=31), Item(value=61, weight=45), Item(value=23, weight=15), Item(value=52, weight=37), Item(value=38, weight=28), Item(value=36, weight=25), Item(value=44, weight=33), Item(value=32, weight=21)]\n",
      "Best Value: 2169\n",
      "Weight: 1548\n"
     ]
    }
   ],
   "source": [
    "print(f\"Items: [{', '.join([f'Item(value={i.value}, weight={i.weight})' for i in items])}]\")\n",
    "print(\"Best Value:\", best_value)\n",
    "print(\"Weight:\", best_weight)\n"
   ]
  },
  {
   "cell_type": "markdown",
   "id": "2044c214",
   "metadata": {},
   "source": [
    "# Análise do comportamento médio"
   ]
  },
  {
   "cell_type": "code",
   "execution_count": 17,
   "id": "7f4bfc49",
   "metadata": {},
   "outputs": [],
   "source": [
    "class Stats:\n",
    "    def __init__(self, n_runs: int, algorithm_instance: object):\n",
    "        self.n_runs = n_runs\n",
    "        self.algorithm_instance = algorithm_instance\n",
    "        self.data = {\n",
    "            \"iteration\": [],\n",
    "            \"best_solution\": [],\n",
    "            \"best_value\": [],\n",
    "            \"best_weight\": [],\n",
    "            \"history_value\": [],\n",
    "            \"history_weight\": [],\n",
    "            \"execution_time\": [],\n",
    "            \"memory_peak\": [],\n",
    "            \"memory_peak_mb\": [],\n",
    "        }\n",
    "\n",
    "    def run(self):\n",
    "\n",
    "        for i in tqdm(range(self.n_runs), desc=\"Running ACO\", unit=\"run\"):\n",
    "            start_time = time.time()\n",
    "            tracemalloc.start()\n",
    "            best_solution, best_value, best_weight = self.algorithm_instance.run()\n",
    "            current, peak = tracemalloc.get_traced_memory()\n",
    "            tracemalloc.stop()\n",
    "            end_time = time.time()\n",
    "\n",
    "            self.data[\"iteration\"].append(i)\n",
    "            self.data[\"best_solution\"].append(best_solution)\n",
    "            self.data[\"best_value\"].append(best_value)\n",
    "            self.data[\"best_weight\"].append(best_weight)\n",
    "            self.data[\"history_value\"].append(self.algorithm_instance.history_value)\n",
    "            self.data[\"history_weight\"].append(self.algorithm_instance.history_weight)\n",
    "            self.data[\"execution_time\"].append(end_time - start_time)\n",
    "            self.data[\"memory_peak\"].append(peak)\n",
    "            self.data[\"memory_peak_mb\"].append(peak / 10**6)\n",
    "\n",
    "    def frame(self):\n",
    "        return pd.DataFrame(self.data)\n",
    "    \n",
    "    def plot_convergence(self, title: str, savefig: str = None):\n",
    "        df = self.frame()\n",
    "\n",
    "        value_by_run = np.array(df[\"history_value\"].tolist())\n",
    "        value_by_iteration = value_by_run.T\n",
    "\n",
    "        means_by_iteration = np.mean(value_by_iteration, axis=1)\n",
    "        std_by_iteration = np.std(value_by_iteration, axis=1)\n",
    "        max_value = np.nanmax(value_by_iteration)\n",
    "\n",
    "        fig, ax = plt.subplots(figsize=(10, 6))\n",
    "\n",
    "        sns.lineplot(\n",
    "            x=np.arange(len(means_by_iteration)),\n",
    "            y=means_by_iteration,\n",
    "            ax=ax,\n",
    "            label=\"Média do custo\",\n",
    "            color=\"royalblue\",\n",
    "            linewidth=2.5\n",
    "        )\n",
    "\n",
    "        ax.fill_between(\n",
    "            np.arange(len(means_by_iteration)),\n",
    "            means_by_iteration - std_by_iteration,\n",
    "            means_by_iteration + std_by_iteration,\n",
    "            color=\"royalblue\",\n",
    "            alpha=0.2,\n",
    "            label=\"Desvio padrão do custo\"\n",
    "        )\n",
    "\n",
    "        ax.axhline(\n",
    "            y=max_value,\n",
    "            linestyle=\"--\",\n",
    "            color=\"forestgreen\",\n",
    "            linewidth=2,\n",
    "            label=f\"Valor máximo = {max_value}\"\n",
    "        )\n",
    "\n",
    "        ax.set_title(title, fontsize=20)\n",
    "        ax.set_xlabel(\"Iteração\", fontsize=16)\n",
    "        ax.set_ylabel(\"Custo\", fontsize=16)\n",
    "        ax.tick_params(axis='both', which='major', labelsize=12)\n",
    "        ax.grid(True, which='both', linestyle='--', linewidth=0.7, alpha=0.7)\n",
    "        ax.legend(fontsize=12, frameon=True)\n",
    "        plt.tight_layout()\n",
    "\n",
    "        if savefig:\n",
    "            plt.savefig(savefig, dpi=600)\n",
    "        \n",
    "        return fig, ax"
   ]
  },
  {
   "cell_type": "code",
   "execution_count": null,
   "id": "1803c850",
   "metadata": {},
   "outputs": [
    {
     "name": "stderr",
     "output_type": "stream",
     "text": [
      "Running ACO:   0%|          | 0/10 [00:00<?, ?run/s]"
     ]
    },
    {
     "name": "stderr",
     "output_type": "stream",
     "text": [
      "Running ACO: 100%|██████████| 10/10 [00:32<00:00,  3.22s/run]\n"
     ]
    }
   ],
   "source": [
    "pso_stats = Stats(n_runs=20, algorithm_instance=pso)\n",
    "pso_stats.run()"
   ]
  },
  {
   "cell_type": "code",
   "execution_count": 23,
   "id": "dc2ca9c6",
   "metadata": {},
   "outputs": [
    {
     "data": {
      "text/html": [
       "<div>\n",
       "<style scoped>\n",
       "    .dataframe tbody tr th:only-of-type {\n",
       "        vertical-align: middle;\n",
       "    }\n",
       "\n",
       "    .dataframe tbody tr th {\n",
       "        vertical-align: top;\n",
       "    }\n",
       "\n",
       "    .dataframe thead th {\n",
       "        text-align: right;\n",
       "    }\n",
       "</style>\n",
       "<table border=\"1\" class=\"dataframe\">\n",
       "  <thead>\n",
       "    <tr style=\"text-align: right;\">\n",
       "      <th></th>\n",
       "      <th>iteration</th>\n",
       "      <th>best_solution</th>\n",
       "      <th>best_value</th>\n",
       "      <th>best_weight</th>\n",
       "      <th>history_value</th>\n",
       "      <th>history_weight</th>\n",
       "      <th>execution_time</th>\n",
       "      <th>memory_peak</th>\n",
       "      <th>memory_peak_mb</th>\n",
       "    </tr>\n",
       "  </thead>\n",
       "  <tbody>\n",
       "    <tr>\n",
       "      <th>0</th>\n",
       "      <td>0</td>\n",
       "      <td>[Item(value=20, weight=16), Item(value=81, wei...</td>\n",
       "      <td>2161</td>\n",
       "      <td>1546</td>\n",
       "      <td>[1953, 1953, 1953, 1953, 1953, 1953, 1953, 195...</td>\n",
       "      <td>[1550, 1550, 1550, 1550, 1550, 1550, 1550, 155...</td>\n",
       "      <td>3.353860</td>\n",
       "      <td>175408</td>\n",
       "      <td>0.175408</td>\n",
       "    </tr>\n",
       "    <tr>\n",
       "      <th>1</th>\n",
       "      <td>1</td>\n",
       "      <td>[Item(value=81, weight=58), Item(value=50, wei...</td>\n",
       "      <td>2173</td>\n",
       "      <td>1549</td>\n",
       "      <td>[1959, 1959, 1959, 1959, 1959, 1959, 1959, 195...</td>\n",
       "      <td>[1542, 1542, 1542, 1542, 1542, 1542, 1542, 154...</td>\n",
       "      <td>3.213961</td>\n",
       "      <td>175304</td>\n",
       "      <td>0.175304</td>\n",
       "    </tr>\n",
       "    <tr>\n",
       "      <th>2</th>\n",
       "      <td>2</td>\n",
       "      <td>[Item(value=20, weight=16), Item(value=81, wei...</td>\n",
       "      <td>2179</td>\n",
       "      <td>1550</td>\n",
       "      <td>[1933, 1933, 1933, 1933, 1941, 1941, 1941, 198...</td>\n",
       "      <td>[1550, 1550, 1550, 1550, 1545, 1545, 1545, 152...</td>\n",
       "      <td>3.225099</td>\n",
       "      <td>174871</td>\n",
       "      <td>0.174871</td>\n",
       "    </tr>\n",
       "    <tr>\n",
       "      <th>3</th>\n",
       "      <td>3</td>\n",
       "      <td>[Item(value=81, weight=58), Item(value=50, wei...</td>\n",
       "      <td>2175</td>\n",
       "      <td>1550</td>\n",
       "      <td>[1938, 1938, 1938, 1938, 1938, 1938, 1938, 194...</td>\n",
       "      <td>[1542, 1542, 1542, 1542, 1542, 1542, 1542, 153...</td>\n",
       "      <td>3.246646</td>\n",
       "      <td>174560</td>\n",
       "      <td>0.174560</td>\n",
       "    </tr>\n",
       "    <tr>\n",
       "      <th>4</th>\n",
       "      <td>4</td>\n",
       "      <td>[Item(value=81, weight=58), Item(value=50, wei...</td>\n",
       "      <td>2180</td>\n",
       "      <td>1550</td>\n",
       "      <td>[1944, 1944, 1944, 1944, 1944, 1944, 1944, 194...</td>\n",
       "      <td>[1550, 1550, 1550, 1550, 1550, 1550, 1550, 154...</td>\n",
       "      <td>3.176707</td>\n",
       "      <td>175392</td>\n",
       "      <td>0.175392</td>\n",
       "    </tr>\n",
       "    <tr>\n",
       "      <th>5</th>\n",
       "      <td>5</td>\n",
       "      <td>[Item(value=81, weight=58), Item(value=50, wei...</td>\n",
       "      <td>2174</td>\n",
       "      <td>1549</td>\n",
       "      <td>[1946, 1946, 1946, 1995, 1995, 1995, 1995, 199...</td>\n",
       "      <td>[1549, 1549, 1549, 1546, 1546, 1546, 1546, 154...</td>\n",
       "      <td>3.208074</td>\n",
       "      <td>174564</td>\n",
       "      <td>0.174564</td>\n",
       "    </tr>\n",
       "    <tr>\n",
       "      <th>6</th>\n",
       "      <td>6</td>\n",
       "      <td>[Item(value=81, weight=58), Item(value=30, wei...</td>\n",
       "      <td>2180</td>\n",
       "      <td>1550</td>\n",
       "      <td>[1952, 1952, 1952, 1986, 1986, 1986, 1986, 198...</td>\n",
       "      <td>[1548, 1548, 1548, 1542, 1542, 1542, 1542, 154...</td>\n",
       "      <td>3.161166</td>\n",
       "      <td>174567</td>\n",
       "      <td>0.174567</td>\n",
       "    </tr>\n",
       "    <tr>\n",
       "      <th>7</th>\n",
       "      <td>7</td>\n",
       "      <td>[Item(value=81, weight=58), Item(value=50, wei...</td>\n",
       "      <td>2163</td>\n",
       "      <td>1550</td>\n",
       "      <td>[1966, 1966, 1966, 1966, 1966, 1966, 1966, 197...</td>\n",
       "      <td>[1547, 1547, 1547, 1547, 1547, 1547, 1547, 152...</td>\n",
       "      <td>3.179639</td>\n",
       "      <td>175218</td>\n",
       "      <td>0.175218</td>\n",
       "    </tr>\n",
       "    <tr>\n",
       "      <th>8</th>\n",
       "      <td>8</td>\n",
       "      <td>[Item(value=20, weight=16), Item(value=81, wei...</td>\n",
       "      <td>2183</td>\n",
       "      <td>1550</td>\n",
       "      <td>[1950, 1950, 1950, 1950, 1985, 1988, 1988, 198...</td>\n",
       "      <td>[1542, 1542, 1542, 1542, 1548, 1515, 1515, 151...</td>\n",
       "      <td>3.221876</td>\n",
       "      <td>174871</td>\n",
       "      <td>0.174871</td>\n",
       "    </tr>\n",
       "    <tr>\n",
       "      <th>9</th>\n",
       "      <td>9</td>\n",
       "      <td>[Item(value=81, weight=58), Item(value=50, wei...</td>\n",
       "      <td>2173</td>\n",
       "      <td>1550</td>\n",
       "      <td>[1982, 1982, 1982, 1982, 1982, 1982, 1982, 198...</td>\n",
       "      <td>[1550, 1550, 1550, 1550, 1550, 1550, 1550, 155...</td>\n",
       "      <td>3.171021</td>\n",
       "      <td>174544</td>\n",
       "      <td>0.174544</td>\n",
       "    </tr>\n",
       "  </tbody>\n",
       "</table>\n",
       "</div>"
      ],
      "text/plain": [
       "   iteration                                      best_solution  best_value  \\\n",
       "0          0  [Item(value=20, weight=16), Item(value=81, wei...        2161   \n",
       "1          1  [Item(value=81, weight=58), Item(value=50, wei...        2173   \n",
       "2          2  [Item(value=20, weight=16), Item(value=81, wei...        2179   \n",
       "3          3  [Item(value=81, weight=58), Item(value=50, wei...        2175   \n",
       "4          4  [Item(value=81, weight=58), Item(value=50, wei...        2180   \n",
       "5          5  [Item(value=81, weight=58), Item(value=50, wei...        2174   \n",
       "6          6  [Item(value=81, weight=58), Item(value=30, wei...        2180   \n",
       "7          7  [Item(value=81, weight=58), Item(value=50, wei...        2163   \n",
       "8          8  [Item(value=20, weight=16), Item(value=81, wei...        2183   \n",
       "9          9  [Item(value=81, weight=58), Item(value=50, wei...        2173   \n",
       "\n",
       "   best_weight                                      history_value  \\\n",
       "0         1546  [1953, 1953, 1953, 1953, 1953, 1953, 1953, 195...   \n",
       "1         1549  [1959, 1959, 1959, 1959, 1959, 1959, 1959, 195...   \n",
       "2         1550  [1933, 1933, 1933, 1933, 1941, 1941, 1941, 198...   \n",
       "3         1550  [1938, 1938, 1938, 1938, 1938, 1938, 1938, 194...   \n",
       "4         1550  [1944, 1944, 1944, 1944, 1944, 1944, 1944, 194...   \n",
       "5         1549  [1946, 1946, 1946, 1995, 1995, 1995, 1995, 199...   \n",
       "6         1550  [1952, 1952, 1952, 1986, 1986, 1986, 1986, 198...   \n",
       "7         1550  [1966, 1966, 1966, 1966, 1966, 1966, 1966, 197...   \n",
       "8         1550  [1950, 1950, 1950, 1950, 1985, 1988, 1988, 198...   \n",
       "9         1550  [1982, 1982, 1982, 1982, 1982, 1982, 1982, 198...   \n",
       "\n",
       "                                      history_weight  execution_time  \\\n",
       "0  [1550, 1550, 1550, 1550, 1550, 1550, 1550, 155...        3.353860   \n",
       "1  [1542, 1542, 1542, 1542, 1542, 1542, 1542, 154...        3.213961   \n",
       "2  [1550, 1550, 1550, 1550, 1545, 1545, 1545, 152...        3.225099   \n",
       "3  [1542, 1542, 1542, 1542, 1542, 1542, 1542, 153...        3.246646   \n",
       "4  [1550, 1550, 1550, 1550, 1550, 1550, 1550, 154...        3.176707   \n",
       "5  [1549, 1549, 1549, 1546, 1546, 1546, 1546, 154...        3.208074   \n",
       "6  [1548, 1548, 1548, 1542, 1542, 1542, 1542, 154...        3.161166   \n",
       "7  [1547, 1547, 1547, 1547, 1547, 1547, 1547, 152...        3.179639   \n",
       "8  [1542, 1542, 1542, 1542, 1548, 1515, 1515, 151...        3.221876   \n",
       "9  [1550, 1550, 1550, 1550, 1550, 1550, 1550, 155...        3.171021   \n",
       "\n",
       "   memory_peak  memory_peak_mb  \n",
       "0       175408        0.175408  \n",
       "1       175304        0.175304  \n",
       "2       174871        0.174871  \n",
       "3       174560        0.174560  \n",
       "4       175392        0.175392  \n",
       "5       174564        0.174564  \n",
       "6       174567        0.174567  \n",
       "7       175218        0.175218  \n",
       "8       174871        0.174871  \n",
       "9       174544        0.174544  "
      ]
     },
     "execution_count": 23,
     "metadata": {},
     "output_type": "execute_result"
    }
   ],
   "source": [
    "pso_stats.frame()"
   ]
  },
  {
   "cell_type": "code",
   "execution_count": 24,
   "id": "89fee1c5",
   "metadata": {},
   "outputs": [
    {
     "data": {
      "text/plain": [
       "(<Figure size 1000x600 with 1 Axes>,\n",
       " <Axes: title={'center': 'Convergência do PSO'}, xlabel='Iteração', ylabel='Custo'>)"
      ]
     },
     "execution_count": 24,
     "metadata": {},
     "output_type": "execute_result"
    },
    {
     "data": {
      "image/png": "[encoded data removed]",
      "text/plain": [
       "<Figure size 1000x600 with 1 Axes>"
      ]
     },
     "metadata": {},
     "output_type": "display_data"
    }
   ],
   "source": [
    "pso_stats.plot_convergence(\n",
    "    title=\"Convergência do PSO\",\n",
    "    savefig=\"results/pso_convergence.png\"\n",
    ")"
   ]
  },
  {
   "cell_type": "markdown",
   "id": "9202b07d1036af8d",
   "metadata": {},
   "source": [
    "# Experimental do PSO"
   ]
  },
  {
   "cell_type": "code",
   "execution_count": null,
   "id": "29ec00ac-1ede-44c6-98e2-a369d55b1d86",
   "metadata": {
    "ExecuteTime": {
     "end_time": "2025-05-26T20:42:57.355856Z",
     "start_time": "2025-05-26T20:42:57.180120Z"
    }
   },
   "outputs": [],
   "source": [
    "# --------- Execução ---------\n",
    "num_items = knapsack.n_items\n",
    "capacity = knapsack.capacity\n",
    "weights = [item.weight for item in knapsack.items]\n",
    "values = [item.value for item in knapsack.items]"
   ]
  },
  {
   "cell_type": "code",
   "execution_count": null,
   "id": "7bfc40fa-cb46-4b6b-832e-aff91c3c965f",
   "metadata": {},
   "outputs": [],
   "source": [
    "# Exibe resultados\n",
    "print(\"Melhor valor encontrado:\", best_value)\n",
    "print(\"Peso total:\", np.sum(solution * weights))\n",
    "print(\"Itens selecionados:\", np.where(solution == 1)[0])\n",
    "\n",
    "# Plota convergência\n",
    "plt.plot(history)\n",
    "plt.xlabel(\"Iterações\")\n",
    "plt.ylabel(\"Melhor valor\")\n",
    "plt.title(\"Convergência do PSO - Knapsack\")\n",
    "plt.grid()\n",
    "plt.show()\n"
   ]
  },
  {
   "cell_type": "code",
   "execution_count": null,
   "id": "5697fbcd-35e7-4920-8dfe-7a1ddbeb181a",
   "metadata": {},
   "outputs": [],
   "source": [
    "best_value_global = 0\n",
    "best_solution_global = None\n",
    "\n",
    "for _ in range(10):\n",
    "    pso = pso_knapsack(weights, values, capacity)\n",
    "    solution, value, _ = pso.run()\n",
    "    if value > best_value_global:\n",
    "        best_value_global = value\n",
    "        best_solution_global = solution\n",
    "\n",
    "print(\"Melhor valor encontrado:\", best_value_global)\n",
    "print(\"Peso total da solução:\", sum(best_solution_global * weights))\n",
    "print(\"Itens escolhidos:\", [i for i, bit in enumerate(best_solution_global) if bit == 1])"
   ]
  },
  {
   "cell_type": "code",
   "execution_count": null,
   "id": "d7ac65681e821184",
   "metadata": {},
   "outputs": [],
   "source": []
  }
 ],
 "metadata": {
  "kernelspec": {
   "display_name": ".venv",
   "language": "python",
   "name": "python3"
  },
  "language_info": {
   "codemirror_mode": {
    "name": "ipython",
    "version": 3
   },
   "file_extension": ".py",
   "mimetype": "text/x-python",
   "name": "python",
   "nbconvert_exporter": "python",
   "pygments_lexer": "ipython3",
   "version": "3.12.3"
  }
 },
 "nbformat": 4,
 "nbformat_minor": 5
}
