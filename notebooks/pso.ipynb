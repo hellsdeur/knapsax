{
 "cells": [
  {
   "cell_type": "code",
   "id": "a9633ade",
   "metadata": {
    "ExecuteTime": {
     "end_time": "2025-05-16T20:15:44.642648Z",
     "start_time": "2025-05-16T20:15:44.637723Z"
    }
   },
   "source": [
    "# permite a utilização de caminhos relativos ao projeto, mesmo no diretório de notebooks\n",
    "import numpy as np\n",
    "import random\n",
    "from knapsax.optimization import Knapsack, Solution\n",
    "import matplotlib.pyplot as plt\n",
    "from knapsax.populational import Populational\n",
    "\n",
    "from knapsax.utils import setrootdir\n",
    "\n",
    "setrootdir(\"knapsax\")"
   ],
   "outputs": [
    {
     "data": {
      "text/plain": [
       "'Directory knapsax successfully loaded as current working directory.'"
      ]
     },
     "execution_count": 87,
     "metadata": {},
     "output_type": "execute_result"
    }
   ],
   "execution_count": 87
  },
  {
   "metadata": {
    "ExecuteTime": {
     "end_time": "2025-05-16T20:15:44.672132Z",
     "start_time": "2025-05-16T20:15:44.661570Z"
    }
   },
   "cell_type": "code",
   "source": [
    "knapsack = Knapsack(instance_file=\"data/knapsack-instance.txt\")\n",
    "knapsack"
   ],
   "id": "a7fa2d2c63bba3e3",
   "outputs": [
    {
     "data": {
      "text/plain": [
       "Knapsack(file=data/knapsack-instance.txt, n_items=100, capacity=1550)"
      ]
     },
     "execution_count": 88,
     "metadata": {},
     "output_type": "execute_result"
    }
   ],
   "execution_count": 88
  },
  {
   "metadata": {},
   "cell_type": "markdown",
   "source": "# PSO",
   "id": "413119c3ab323421"
  },
  {
   "metadata": {
    "ExecuteTime": {
     "end_time": "2025-05-16T20:15:44.715431Z",
     "start_time": "2025-05-16T20:15:44.712946Z"
    }
   },
   "cell_type": "code",
   "source": [
    "def particula(n):\n",
    "    posicao = [random.randint(0, 1) for _ in range(n)]\n",
    "    velocidade = [random.uniform(-1, 1) for _ in range(n)]\n",
    "    return [posicao, posicao.copy(), velocidade]"
   ],
   "id": "c39dc834ce31ff08",
   "outputs": [],
   "execution_count": 89
  },
  {
   "metadata": {
    "ExecuteTime": {
     "end_time": "2025-05-16T20:15:44.770769Z",
     "start_time": "2025-05-16T20:15:44.767049Z"
    }
   },
   "cell_type": "code",
   "source": [
    "def avaliar(pos, itens, capacidade):\n",
    "    peso_total = 0\n",
    "    valor_total = 0\n",
    "    for selecionado, item in zip(pos, itens):\n",
    "        if selecionado:\n",
    "            peso_total += item.weight\n",
    "            valor_total += item.value\n",
    "    if peso_total > capacidade:\n",
    "        return 0.01\n",
    "    return valor_total"
   ],
   "id": "177c29931e214835",
   "outputs": [],
   "execution_count": 90
  },
  {
   "metadata": {
    "ExecuteTime": {
     "end_time": "2025-05-16T20:15:44.827817Z",
     "start_time": "2025-05-16T20:15:44.825388Z"
    }
   },
   "cell_type": "code",
   "source": [
    "def atualizar_pbest(p, itens, capacidade):\n",
    "    if avaliar(p[0], itens, capacidade) > avaliar(p[1], itens, capacidade):\n",
    "        p[1] = p[0].copy()"
   ],
   "id": "cc0ab93cabcba8fe",
   "outputs": [],
   "execution_count": 91
  },
  {
   "metadata": {
    "ExecuteTime": {
     "end_time": "2025-05-16T20:15:44.886646Z",
     "start_time": "2025-05-16T20:15:44.883112Z"
    }
   },
   "cell_type": "code",
   "source": [
    "def obter_gbest(pop, itens, capacidade):\n",
    "    return max(pop, key=lambda p: avaliar(p[1], itens, capacidade))[1]"
   ],
   "id": "43446bbe725d077e",
   "outputs": [],
   "execution_count": 92
  },
  {
   "metadata": {
    "ExecuteTime": {
     "end_time": "2025-05-16T20:15:44.940954Z",
     "start_time": "2025-05-16T20:15:44.938053Z"
    }
   },
   "cell_type": "code",
   "source": [
    "def sigmoid(x):\n",
    "    return 1 / (1 + np.exp(-x))"
   ],
   "id": "4174b03479c56458",
   "outputs": [],
   "execution_count": 93
  },
  {
   "metadata": {
    "ExecuteTime": {
     "end_time": "2025-05-16T20:15:44.997694Z",
     "start_time": "2025-05-16T20:15:44.994402Z"
    }
   },
   "cell_type": "code",
   "source": [
    "def atualizar_velocidade(p, gbest, w, c1, c2):\n",
    "    n = len(p[0])\n",
    "    r1 = np.random.rand(n)\n",
    "    r2 = np.random.rand(n)\n",
    "    pos = np.array(p[0])\n",
    "    pbest = np.array(p[1])\n",
    "    gbest = np.array(gbest)\n",
    "    vel = np.array(p[2])\n",
    "    nova = w * vel + c1 * r1 * (pbest - pos) + c2 * r2 * (gbest - pos)\n",
    "    p[2] = nova.tolist()"
   ],
   "id": "b96fa5776e7dbe3a",
   "outputs": [],
   "execution_count": 94
  },
  {
   "metadata": {
    "ExecuteTime": {
     "end_time": "2025-05-16T20:15:45.049034Z",
     "start_time": "2025-05-16T20:15:45.045383Z"
    }
   },
   "cell_type": "code",
   "source": [
    "def atualizar_posicao(p):\n",
    "    nova_pos = []\n",
    "    for v in p[2]:\n",
    "        prob = sigmoid(v)\n",
    "        nova_pos.append(1 if random.random() < prob else 0)\n",
    "    p[0] = nova_pos"
   ],
   "id": "433c52df6cdc0bcd",
   "outputs": [],
   "execution_count": 95
  },
  {
   "metadata": {
    "ExecuteTime": {
     "end_time": "2025-05-16T20:43:21.799966Z",
     "start_time": "2025-05-16T20:43:21.795799Z"
    }
   },
   "cell_type": "code",
   "source": [
    "def pso_mochila(knapsack: Knapsack, num_particulas=30, max_iter=500, w=0.7, c1=1.5, c2=1.5):\n",
    "    n = knapsack.n_items\n",
    "    itens = knapsack.items\n",
    "    capacidade = knapsack.capacity\n",
    "\n",
    "    pop = [particula(n) for _ in range(num_particulas)]\n",
    "    historico = []\n",
    "\n",
    "    for _ in range(max_iter):\n",
    "        for p in pop:\n",
    "            atualizar_pbest(p, itens, capacidade)\n",
    "\n",
    "        gbest = obter_gbest(pop, itens, capacidade)\n",
    "        historico.append(avaliar(gbest, itens, capacidade))\n",
    "\n",
    "        for p in pop:\n",
    "            atualizar_velocidade(p, gbest, w, c1, c2)\n",
    "            atualizar_posicao(p)\n",
    "\n",
    "    return gbest, avaliar(gbest, itens, capacidade), historico\n"
   ],
   "id": "c60bc90bf5c2a740",
   "outputs": [],
   "execution_count": 105
  },
  {
   "metadata": {
    "ExecuteTime": {
     "end_time": "2025-05-16T20:43:25.724322Z",
     "start_time": "2025-05-16T20:43:24.003366Z"
    }
   },
   "cell_type": "code",
   "source": [
    "solucao, valor_total, historico = pso_mochila(knapsack)\n",
    "\n",
    "print(\"Valor total da mochila:\", valor_total)\n",
    "print(\"Itens selecionados:\")\n",
    "for i, bit in enumerate(solucao):\n",
    "    if bit:\n",
    "        item = knapsack.items[i]\n",
    "        print(f\"Item {i}: valor = {item.value}, peso = {item.weight}\")\n"
   ],
   "id": "8a66a3e11799681b",
   "outputs": [
    {
     "name": "stdout",
     "output_type": "stream",
     "text": [
      "Valor total da mochila: 2069\n",
      "Itens selecionados:\n",
      "Item 5: valor = 30, peso = 15\n",
      "Item 8: valor = 44, peso = 28\n",
      "Item 13: valor = 55, peso = 40\n",
      "Item 14: valor = 33, peso = 23\n",
      "Item 16: valor = 18, peso = 12\n",
      "Item 18: valor = 42, peso = 31\n",
      "Item 20: valor = 51, peso = 37\n",
      "Item 21: valor = 68, peso = 54\n",
      "Item 22: valor = 39, peso = 25\n",
      "Item 26: valor = 29, peso = 21\n",
      "Item 32: valor = 71, peso = 56\n",
      "Item 33: valor = 54, peso = 39\n",
      "Item 35: valor = 26, peso = 18\n",
      "Item 36: valor = 77, peso = 62\n",
      "Item 37: valor = 63, peso = 47\n",
      "Item 38: valor = 45, peso = 29\n",
      "Item 40: valor = 22, peso = 14\n",
      "Item 41: valor = 69, peso = 53\n",
      "Item 42: valor = 52, peso = 36\n",
      "Item 44: valor = 37, peso = 24\n",
      "Item 45: valor = 61, peso = 49\n",
      "Item 49: valor = 57, peso = 42\n",
      "Item 51: valor = 24, peso = 17\n",
      "Item 53: valor = 53, peso = 38\n",
      "Item 56: valor = 66, peso = 51\n",
      "Item 58: valor = 49, peso = 34\n",
      "Item 59: valor = 74, peso = 61\n",
      "Item 60: valor = 41, peso = 26\n",
      "Item 63: valor = 94, peso = 80\n",
      "Item 64: valor = 19, peso = 13\n",
      "Item 67: valor = 60, peso = 46\n",
      "Item 69: valor = 75, peso = 63\n",
      "Item 71: valor = 17, peso = 11\n",
      "Item 74: valor = 16, peso = 10\n",
      "Item 83: valor = 61, peso = 45\n",
      "Item 84: valor = 93, peso = 82\n",
      "Item 85: valor = 23, peso = 15\n",
      "Item 87: valor = 52, peso = 37\n",
      "Item 93: valor = 63, peso = 47\n",
      "Item 95: valor = 44, peso = 33\n",
      "Item 96: valor = 70, peso = 59\n",
      "Item 99: valor = 32, peso = 21\n"
     ]
    }
   ],
   "execution_count": 106
  },
  {
   "metadata": {
    "ExecuteTime": {
     "end_time": "2025-05-16T20:45:22.707537Z",
     "start_time": "2025-05-16T20:45:22.686759Z"
    }
   },
   "cell_type": "code",
   "source": "",
   "id": "82ecb82f8c755426",
   "outputs": [
    {
     "ename": "AttributeError",
     "evalue": "'list' object has no attribute 'items'",
     "output_type": "error",
     "traceback": [
      "\u001B[31m---------------------------------------------------------------------------\u001B[39m",
      "\u001B[31mAttributeError\u001B[39m                            Traceback (most recent call last)",
      "\u001B[36mCell\u001B[39m\u001B[36m \u001B[39m\u001B[32mIn[108]\u001B[39m\u001B[32m, line 1\u001B[39m\n\u001B[32m----> \u001B[39m\u001B[32m1\u001B[39m Solution(\u001B[43msolucao\u001B[49m\u001B[43m.\u001B[49m\u001B[43mitems\u001B[49m)\n",
      "\u001B[31mAttributeError\u001B[39m: 'list' object has no attribute 'items'"
     ]
    }
   ],
   "execution_count": 108
  }
 ],
 "metadata": {
  "kernelspec": {
   "display_name": ".venv",
   "language": "python",
   "name": "python3"
  },
  "language_info": {
   "codemirror_mode": {
    "name": "ipython",
    "version": 3
   },
   "file_extension": ".py",
   "mimetype": "text/x-python",
   "name": "python",
   "nbconvert_exporter": "python",
   "pygments_lexer": "ipython3",
   "version": "3.12.7"
  }
 },
 "nbformat": 4,
 "nbformat_minor": 5
}
