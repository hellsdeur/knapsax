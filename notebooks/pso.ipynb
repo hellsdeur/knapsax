{
 "cells": [
  {
   "cell_type": "code",
   "execution_count": 1,
   "id": "a9633ade",
   "metadata": {
    "ExecuteTime": {
     "end_time": "2025-05-25T21:23:53.269116Z",
     "start_time": "2025-05-25T21:23:53.258861Z"
    }
   },
   "outputs": [
    {
     "data": {
      "text/plain": [
       "'Directory knapsax successfully loaded as current working directory.'"
      ]
     },
     "execution_count": 1,
     "metadata": {},
     "output_type": "execute_result"
    }
   ],
   "source": [
    "# permite a utilização de caminhos relativos ao projeto, mesmo no diretório de notebooks\n",
    "import numpy as np\n",
    "import random\n",
    "from knapsax.optimization import Knapsack, Solution\n",
    "import matplotlib.pyplot as plt\n",
    "from knapsax.populational import Populational\n",
    "\n",
    "from knapsax.utils import setrootdir\n",
    "\n",
    "setrootdir(\"knapsax\")"
   ]
  },
  {
   "cell_type": "code",
   "execution_count": 2,
   "id": "a7fa2d2c63bba3e3",
   "metadata": {
    "ExecuteTime": {
     "end_time": "2025-05-25T21:23:53.314123Z",
     "start_time": "2025-05-25T21:23:53.298149Z"
    }
   },
   "outputs": [
    {
     "data": {
      "text/plain": [
       "Knapsack(file=data/knapsack-instance.txt, n_items=100, capacity=1550)"
      ]
     },
     "execution_count": 2,
     "metadata": {},
     "output_type": "execute_result"
    }
   ],
   "source": [
    "knapsack = Knapsack(instance_file=\"data/knapsack-instance.txt\")\n",
    "knapsack"
   ]
  },
  {
   "cell_type": "code",
   "execution_count": 3,
   "id": "af06145a-4465-48da-b1ec-e69ad0e4d9ef",
   "metadata": {
    "ExecuteTime": {
     "end_time": "2025-05-25T21:23:53.383451Z",
     "start_time": "2025-05-25T21:23:53.377591Z"
    }
   },
   "outputs": [],
   "source": [
    "capacidade = knapsack.capacity\n",
    "pesos = knapsack.items"
   ]
  },
  {
   "cell_type": "code",
   "execution_count": 4,
   "id": "01b683ef-5fb6-455c-9d12-294bad674f27",
   "metadata": {
    "ExecuteTime": {
     "end_time": "2025-05-25T21:23:53.485122Z",
     "start_time": "2025-05-25T21:23:53.481961Z"
    }
   },
   "outputs": [
    {
     "name": "stdout",
     "output_type": "stream",
     "text": [
      "1550\n",
      "[Item(value=91, weight=74), Item(value=20, weight=16), Item(value=81, weight=58), Item(value=50, weight=35), Item(value=76, weight=72), Item(value=30, weight=15), Item(value=85, weight=77), Item(value=65, weight=52), Item(value=44, weight=28), Item(value=70, weight=63), Item(value=60, weight=45), Item(value=25, weight=19), Item(value=88, weight=66), Item(value=55, weight=40), Item(value=33, weight=23), Item(value=95, weight=81), Item(value=18, weight=12), Item(value=62, weight=50), Item(value=42, weight=31), Item(value=75, weight=68), Item(value=51, weight=37), Item(value=68, weight=54), Item(value=39, weight=25), Item(value=90, weight=79), Item(value=58, weight=43), Item(value=72, weight=60), Item(value=29, weight=21), Item(value=64, weight=48), Item(value=82, weight=70), Item(value=47, weight=33), Item(value=78, weight=64), Item(value=40, weight=27), Item(value=71, weight=56), Item(value=54, weight=39), Item(value=89, weight=75), Item(value=26, weight=18), Item(value=77, weight=62), Item(value=63, weight=47), Item(value=45, weight=29), Item(value=84, weight=76), Item(value=22, weight=14), Item(value=69, weight=53), Item(value=52, weight=36), Item(value=80, weight=67), Item(value=37, weight=24), Item(value=61, weight=49), Item(value=83, weight=71), Item(value=48, weight=32), Item(value=73, weight=59), Item(value=57, weight=42), Item(value=92, weight=78), Item(value=24, weight=17), Item(value=67, weight=55), Item(value=53, weight=38), Item(value=86, weight=73), Item(value=28, weight=20), Item(value=66, weight=51), Item(value=79, weight=69), Item(value=49, weight=34), Item(value=74, weight=61), Item(value=41, weight=26), Item(value=70, weight=57), Item(value=59, weight=44), Item(value=94, weight=80), Item(value=19, weight=13), Item(value=76, weight=65), Item(value=46, weight=30), Item(value=60, weight=46), Item(value=34, weight=22), Item(value=75, weight=63), Item(value=56, weight=41), Item(value=17, weight=11), Item(value=65, weight=50), Item(value=87, weight=77), Item(value=16, weight=10), Item(value=68, weight=54), Item(value=50, weight=35), Item(value=81, weight=72), Item(value=27, weight=19), Item(value=62, weight=48), Item(value=78, weight=66), Item(value=43, weight=31), Item(value=72, weight=58), Item(value=61, weight=45), Item(value=93, weight=82), Item(value=23, weight=15), Item(value=71, weight=60), Item(value=52, weight=37), Item(value=85, weight=74), Item(value=38, weight=28), Item(value=67, weight=52), Item(value=80, weight=69), Item(value=36, weight=25), Item(value=63, weight=47), Item(value=77, weight=64), Item(value=44, weight=33), Item(value=70, weight=59), Item(value=58, weight=43), Item(value=88, weight=76), Item(value=32, weight=21)]\n"
     ]
    }
   ],
   "source": [
    "print(capacidade)\n",
    "print(pesos)"
   ]
  },
  {
   "cell_type": "markdown",
   "id": "413119c3ab323421",
   "metadata": {},
   "source": [
    "# PSO"
   ]
  },
  {
   "cell_type": "code",
   "execution_count": 5,
   "id": "c39dc834ce31ff08",
   "metadata": {
    "ExecuteTime": {
     "end_time": "2025-05-25T21:23:53.568211Z",
     "start_time": "2025-05-25T21:23:53.565283Z"
    }
   },
   "outputs": [],
   "source": [
    "# def particula(tamanho):\n",
    "#     posicao = [random.randint(0, 1) for _ in range(tamanho)]\n",
    "#     velocidade = [random.uniform(-1, 1) for _ in range(tamanho)]\n",
    "#     return [posicao, posicao.copy(), velocidade]"
   ]
  },
  {
   "cell_type": "code",
   "execution_count": 6,
   "id": "6af67eac290230e3",
   "metadata": {
    "ExecuteTime": {
     "end_time": "2025-05-25T21:23:53.631075Z",
     "start_time": "2025-05-25T21:23:53.625384Z"
    }
   },
   "outputs": [],
   "source": [
    "import numpy as np\n",
    "from knapsax.optimization import Knapsack, ObjectiveFunction, Maximize\n",
    "\n",
    "class PSOBinario:\n",
    "    def __init__(self, knapsack, num_particulas=50, max_avaliacoes=20000):\n",
    "        self.knapsack = knapsack\n",
    "        self.obj_func = ObjectiveFunction()\n",
    "        self.criterio = Maximize()\n",
    "        self.n = self.knapsack.n_items\n",
    "        self.capacidade = self.knapsack.capacity\n",
    "        self.itens = self.knapsack.items\n",
    "        self.num_particulas = num_particulas\n",
    "        self.max_avaliacoes = max_avaliacoes\n",
    "\n",
    "    def fitness(self, bits):\n",
    "        total_valor = 0\n",
    "        total_peso = 0\n",
    "        for i in range(self.n):\n",
    "            if bits[i] == 1:\n",
    "                total_valor += self.itens[i].value\n",
    "                total_peso += self.itens[i].weight\n",
    "                if total_peso > self.capacidade:\n",
    "                    return 0\n",
    "        return total_valor\n",
    "\n",
    "    def run(self):\n",
    "        w, c1, c2 = 0.7, 1.5, 1.5\n",
    "        posicoes = np.random.randint(0, 2, (self.num_particulas, self.n))\n",
    "        velocidades = np.random.uniform(-1, 1, (self.num_particulas, self.n))\n",
    "        pbest = posicoes.copy()\n",
    "        pbest_val = np.array([self.fitness(p) for p in pbest])\n",
    "        gbest_idx = np.argmax(pbest_val)\n",
    "        gbest = pbest[gbest_idx].copy()\n",
    "        gbest_val = pbest_val[gbest_idx]\n",
    "\n",
    "        avaliacoes = self.num_particulas\n",
    "\n",
    "        while avaliacoes < self.max_avaliacoes:\n",
    "            for i in range(self.num_particulas):\n",
    "                r1, r2 = np.random.rand(self.n), np.random.rand(self.n)\n",
    "\n",
    "                velocidades[i] = (\n",
    "                    w * velocidades[i]\n",
    "                    + c1 * r1 * (pbest[i] - posicoes[i])\n",
    "                    + c2 * r2 * (gbest - posicoes[i])\n",
    "                )\n",
    "\n",
    "                posicoes[i] = np.where(velocidades[i] > 0, 1, 0)\n",
    "\n",
    "                f = self.fitness(posicoes[i])\n",
    "                avaliacoes += 1\n",
    "\n",
    "                if self.criterio(f, pbest_val[i]):\n",
    "                    pbest[i] = posicoes[i].copy()\n",
    "                    pbest_val[i] = f\n",
    "                    if self.criterio(f, gbest_val):\n",
    "                        gbest = posicoes[i].copy()\n",
    "                        gbest_val = f\n",
    "\n",
    "                if avaliacoes >= self.max_avaliacoes:\n",
    "                    break\n",
    "\n",
    "        return gbest_val\n"
   ]
  },
  {
   "cell_type": "code",
   "execution_count": 7,
   "id": "9edbbe9ca33df880",
   "metadata": {
    "ExecuteTime": {
     "end_time": "2025-05-25T21:23:54.080294Z",
     "start_time": "2025-05-25T21:23:53.675220Z"
    }
   },
   "outputs": [
    {
     "name": "stdout",
     "output_type": "stream",
     "text": [
      "Melhor valor encontrado: 2084\n"
     ]
    }
   ],
   "source": [
    "pso = PSOBinario(knapsack)\n",
    "resultado = pso.run()\n",
    "print(\"Melhor valor encontrado:\", resultado)"
   ]
  },
  {
   "cell_type": "code",
   "execution_count": 8,
   "id": "e0085a5dbf174c77",
   "metadata": {
    "ExecuteTime": {
     "end_time": "2025-05-25T21:23:54.094828Z",
     "start_time": "2025-05-25T21:23:54.092318Z"
    }
   },
   "outputs": [],
   "source": [
    "melhorias = 0\n",
    "ult_gbest = resultado\n",
    "\n",
    "# dentro do while:\n",
    "if resultado > ult_gbest:\n",
    "    melhorias = 0\n",
    "    ult_gbest = resultado\n",
    "else:\n",
    "    melhorias += 1\n",
    "\n",
    "if melhorias >= 100:  # 100 iterações sem melhorar\n",
    "    print(\"Convergiu por estagnação.\")"
   ]
  },
  {
   "cell_type": "code",
   "execution_count": null,
   "id": "67d52e4b55803a67",
   "metadata": {},
   "outputs": [],
   "source": [
    "import matplotlib.pyplot as plt\n",
    "\n",
    "historico = []\n",
    "\n",
    "# dentro do while:\n",
    "historico.append(gbest_val)\n",
    "\n",
    "# depois do algoritmo:\n",
    "plt.plot(historico)\n",
    "plt.xlabel(\"Avaliações\")\n",
    "plt.ylabel(\"Melhor valor\")\n",
    "plt.title(\"Convergência do PSO\")\n",
    "plt.grid()\n",
    "plt.show()"
   ]
  },
  {
   "cell_type": "markdown",
   "id": "24c02d3974e53e5b",
   "metadata": {},
   "source": [
    "# PSO Teste 2"
   ]
  },
  {
   "cell_type": "code",
   "execution_count": 74,
   "id": "b360ac041526f9a8",
   "metadata": {
    "ExecuteTime": {
     "end_time": "2025-05-25T21:23:54.355498914Z",
     "start_time": "2025-05-25T21:23:39.467577Z"
    }
   },
   "outputs": [],
   "source": [
    "class Particula:\n",
    "    def __init__(self, weights, values, capacity):\n",
    "        self.weights = weights\n",
    "        self.values = values\n",
    "        self.capacity = capacity\n",
    "        self.num_items = len(weights)\n",
    "\n",
    "        self.position = self.generate_feasible_position()\n",
    "        self.velocity = np.random.uniform(-1, 1, size=self.num_items)\n",
    "\n",
    "        self.best_position = self.position.copy()\n",
    "        self.best_fitness = self.evaluate()\n",
    "\n",
    "    def generate_feasible_position(self):\n",
    "        position = np.zeros(self.num_items, dtype=int)\n",
    "        total_weight = 0\n",
    "        indices = np.random.permutation(self.num_items)\n",
    "        for i in indices:\n",
    "            if total_weight + self.weights[i] <= self.capacity:\n",
    "                position[i] = 1\n",
    "                total_weight += self.weights[i]\n",
    "        return position\n",
    "\n",
    "    def evaluate(self):\n",
    "        total_weight = np.sum(self.position * self.weights)\n",
    "        if total_weight > self.capacity:\n",
    "            return 0\n",
    "        return np.sum(self.position * self.values)\n",
    "\n",
    "    def update_velocity(self, global_best, inertia, c1, c2, min_v, max_v):\n",
    "        r1 = np.random.rand(self.num_items)\n",
    "        r2 = np.random.rand(self.num_items)\n",
    "        cognitive = c1 * r1 * (self.best_position - self.position)\n",
    "        social = c2 * r2 * (global_best - self.position)\n",
    "        self.velocity = inertia * self.velocity + cognitive + social\n",
    "        self.velocity = np.clip(self.velocity, -min_v, max_v)\n",
    "\n",
    "    def update_position(self):\n",
    "        prob = 1 / (1 + np.exp(-self.velocity))\n",
    "        self.position = np.where(np.random.rand(self.num_items) < prob, 1, 0)"
   ]
  },
  {
   "cell_type": "code",
   "execution_count": 84,
   "id": "1860eef4-d4f2-4c02-aa69-6818d9b054f9",
   "metadata": {},
   "outputs": [],
   "source": [
    "class pso_knapsack:\n",
    "    def __init__(self, weights, values, capacity, num_particles=100, max_evals=20000,\n",
    "                 inertia=1.0, c1=0.5, c2=0.5, min_velocity=4, max_velocity=4):\n",
    "\n",
    "        self.weights = weights\n",
    "        self.values = values\n",
    "        self.capacity = capacity\n",
    "        num_itens = len(weights)\n",
    "    \n",
    "        self.num_particles = num_particles\n",
    "        self.max_evals = max_evals\n",
    "        self.inertia = inertia\n",
    "        self.c1 = c1\n",
    "        self.c2 = c2\n",
    "        self.min_velocity = min_velocity\n",
    "        self.max_velocity = max_velocity\n",
    "    \n",
    "        self.history = []\n",
    "\n",
    "    def run(self):    \n",
    "        swarm = [Particula(self.weights, self.values, self.capacity) for _ in range(self.num_particles)]\n",
    "        global_best = swarm[0].best_position.copy()\n",
    "        global_best_fitness = swarm[0].best_fitness\n",
    "    \n",
    "        evals = self.num_particles\n",
    "        self.history.append(global_best_fitness)\n",
    "    \n",
    "        while evals < self.max_evals:\n",
    "            for particle in swarm:\n",
    "                particle.update_velocity(global_best, self.inertia, self.c1, self.c2, self.min_velocity, self.max_velocity)\n",
    "                particle.update_position()\n",
    "                fitness = particle.evaluate()\n",
    "                evals += 1\n",
    "    \n",
    "                if fitness > particle.best_fitness:\n",
    "                    particle.best_fitness = fitness\n",
    "                    particle.best_position = particle.position.copy()\n",
    "    \n",
    "                if fitness > global_best_fitness:\n",
    "                    global_best_fitness = fitness\n",
    "                    global_best = particle.position.copy()\n",
    "    \n",
    "                if evals >= self.max_evals:\n",
    "                    break\n",
    "            self.history.append(global_best_fitness)\n",
    "        return global_best, global_best_fitness, self.history"
   ]
  },
  {
   "cell_type": "code",
   "execution_count": 92,
   "id": "29ec00ac-1ede-44c6-98e2-a369d55b1d86",
   "metadata": {},
   "outputs": [
    {
     "name": "stdout",
     "output_type": "stream",
     "text": [
      "Melhor valor: 2157\n",
      "Peso total: 1546\n",
      "Itens escolhidos (índices): [ 0  5 10 11 12 13 21 23 25 27 30 31 32 33 37 41 44 45 47 53 56 59 65 66\n",
      " 71 72 73 74 76 78 83 85 89 90 92 97]\n"
     ]
    }
   ],
   "source": [
    "# --------- Execução ---------\n",
    "num_items = knapsack.n_items\n",
    "capacity = knapsack.capacity\n",
    "weights = [item.weight for item in knapsack.items]\n",
    "values = [item.value for item in knapsack.items]\n",
    "\n",
    "pso = pso_knapsack(weights, values, capacity)\n",
    "solution, best_value, history = pso.run()\n",
    "\n",
    "total_weight = np.sum(best_position * weights)\n",
    "\n",
    "print(\"Melhor valor:\", best_value)\n",
    "print(\"Peso total:\", total_weight)\n",
    "print(\"Itens escolhidos (índices):\", np.where(best_position == 1)[0])"
   ]
  },
  {
   "cell_type": "code",
   "execution_count": 90,
   "id": "7bfc40fa-cb46-4b6b-832e-aff91c3c965f",
   "metadata": {},
   "outputs": [
    {
     "name": "stdout",
     "output_type": "stream",
     "text": [
      "Melhor valor encontrado: 2168\n",
      "Peso total: 1547\n",
      "Itens selecionados: [ 2  3  5  8 10 12 13 14 16 18 20 26 29 31 35 37 38 40 41 42 44 47 49 51\n",
      " 53 55 58 60 62 66 67 68 70 72 76 79 81 83 85 87 89 90 92 95 97 99]\n"
     ]
    },
    {
     "data": {
      "image/png": "[encoded data removed]",
      "text/plain": [
       "<Figure size 640x480 with 1 Axes>"
      ]
     },
     "metadata": {},
     "output_type": "display_data"
    }
   ],
   "source": [
    "# Exibe resultados\n",
    "print(\"Melhor valor encontrado:\", best_value)\n",
    "print(\"Peso total:\", np.sum(solution * weights))\n",
    "print(\"Itens selecionados:\", np.where(solution == 1)[0])\n",
    "\n",
    "# Plota convergência\n",
    "plt.plot(history)\n",
    "plt.xlabel(\"Iterações\")\n",
    "plt.ylabel(\"Melhor valor\")\n",
    "plt.title(\"Convergência do PSO - Knapsack\")\n",
    "plt.grid()\n",
    "plt.show()\n"
   ]
  },
  {
   "cell_type": "code",
   "execution_count": 94,
   "id": "5697fbcd-35e7-4920-8dfe-7a1ddbeb181a",
   "metadata": {},
   "outputs": [
    {
     "name": "stdout",
     "output_type": "stream",
     "text": [
      "Melhor valor encontrado: 2166\n",
      "Peso total da solução: 1549\n",
      "Itens escolhidos: [2, 3, 5, 8, 10, 11, 12, 13, 14, 16, 17, 18, 20, 21, 22, 24, 27, 29, 33, 35, 37, 38, 40, 42, 44, 45, 47, 49, 51, 53, 56, 58, 60, 64, 66, 68, 71, 72, 74, 76, 79, 81, 85, 87, 92, 97, 99]\n"
     ]
    }
   ],
   "source": [
    "best_value_global = 0\n",
    "best_solution_global = None\n",
    "\n",
    "for _ in range(10):\n",
    "    pso = pso_knapsack(weights, values, capacity)\n",
    "    solution, value, _ = pso.run()\n",
    "    if value > best_value_global:\n",
    "        best_value_global = value\n",
    "        best_solution_global = solution\n",
    "\n",
    "print(\"Melhor valor encontrado:\", best_value_global)\n",
    "print(\"Peso total da solução:\", sum(best_solution_global * weights))\n",
    "print(\"Itens escolhidos:\", [i for i, bit in enumerate(best_solution_global) if bit == 1])"
   ]
  }
 ],
 "metadata": {
  "kernelspec": {
   "display_name": "Python 3 (ipykernel)",
   "language": "python",
   "name": "python3"
  },
  "language_info": {
   "codemirror_mode": {
    "name": "ipython",
    "version": 3
   },
   "file_extension": ".py",
   "mimetype": "text/x-python",
   "name": "python",
   "nbconvert_exporter": "python",
   "pygments_lexer": "ipython3",
   "version": "3.12.3"
  }
 },
 "nbformat": 4,
 "nbformat_minor": 5
}
