{
 "cells": [
  {
   "cell_type": "code",
   "execution_count": 1,
   "id": "1f2a3fcb",
   "metadata": {},
   "outputs": [
    {
     "data": {
      "text/plain": [
       "'Directory knapsax successfully loaded as current working directory.'"
      ]
     },
     "execution_count": 1,
     "metadata": {},
     "output_type": "execute_result"
    }
   ],
   "source": [
    "# permite a utilização de caminhos relativos ao projeto, mesmo no diretório de notebooks\n",
    "\n",
    "from knapsax.utils import setrootdir\n",
    "\n",
    "setrootdir(\"knapsax\")"
   ]
  },
  {
   "cell_type": "code",
   "execution_count": 2,
   "id": "dcc107dd",
   "metadata": {},
   "outputs": [],
   "source": [
    "from typing import List, Tuple, Dict, Callable\n",
    "import random\n",
    "\n",
    "import numpy as np\n",
    "\n",
    "from knapsax.optimization import Problem, Maximize, Solution, Knapsack"
   ]
  },
  {
   "cell_type": "code",
   "execution_count": 3,
   "id": "aa883384",
   "metadata": {},
   "outputs": [
    {
     "data": {
      "text/plain": [
       "Knapsack(file=data/knapsack-instance.txt, n_items=100, capacity=1550)"
      ]
     },
     "execution_count": 3,
     "metadata": {},
     "output_type": "execute_result"
    }
   ],
   "source": [
    "knapsack = Knapsack(instance_file=\"data/knapsack-instance.txt\")\n",
    "knapsack"
   ]
  },
  {
   "cell_type": "code",
   "execution_count": 4,
   "id": "f532b36c",
   "metadata": {},
   "outputs": [],
   "source": [
    "class ACOSolution(Solution):\n",
    "    def __init__(self, knapsack, pheromone_vector, alpha=1, beta=1):\n",
    "        super().__init__(knapsack)\n",
    "        self.pheromone_vector = pheromone_vector\n",
    "        self.alpha = alpha\n",
    "        self.beta = beta\n",
    "\n",
    "    def generate_solution(self):\n",
    "        available_items = set(range(self.knapsack.n_items))\n",
    "\n",
    "        while available_items:\n",
    "            probabilities = self._compute_probabilities(available_items)\n",
    "\n",
    "            if probabilities.sum() == 0 or len(available_items) == 0:\n",
    "                break\n",
    "\n",
    "            item_index = np.random.choice(list(available_items), p=probabilities)\n",
    "\n",
    "            self.add_item(item_index)\n",
    "            available_items.remove(item_index)\n",
    "\n",
    "    def _compute_probabilities(self, available_items):\n",
    "        pheromone = np.array([self.pheromone_vector[i] for i in available_items])\n",
    "        heuristic = np.array([\n",
    "            self.knapsack.items[i].value / self.knapsack.items[i].weight for i in available_items\n",
    "        ])\n",
    "        scores = (pheromone ** self.alpha) * (heuristic ** self.beta)\n",
    "        total = scores.sum()\n",
    "        if total == 0:\n",
    "            return np.ones_like(scores) / len(scores)\n",
    "        return scores / total\n"
   ]
  },
  {
   "cell_type": "code",
   "execution_count": 5,
   "id": "0636031b",
   "metadata": {},
   "outputs": [],
   "source": [
    "class ACO:\n",
    "    def __init__(self, knapsack, n_ants, n_best, n_iterations, decay, alpha=1, beta=1):\n",
    "        self.knapsack = knapsack\n",
    "        self.n_items = knapsack.n_items\n",
    "        self.pheromone = np.ones(self.n_items) / self.n_items\n",
    "        self.n_ants = n_ants\n",
    "        self.n_best = n_best\n",
    "        self.n_iterations = n_iterations\n",
    "        self.decay = decay\n",
    "        self.alpha = alpha\n",
    "        self.beta = beta\n",
    "\n",
    "    def run(self):\n",
    "        best_solution = None\n",
    "\n",
    "        for _ in range(self.n_iterations):\n",
    "            all_solutions = self.gen_all_solutions()\n",
    "            self.spread_pheromone(all_solutions)\n",
    "\n",
    "            local_best = max(all_solutions, key=lambda s: s.total_value)\n",
    "            if best_solution is None or local_best.total_value > best_solution.total_value:\n",
    "                best_solution = local_best\n",
    "\n",
    "            self.pheromone *= self.decay\n",
    "\n",
    "        return best_solution.items, best_solution.total_value\n",
    "\n",
    "    def spread_pheromone(self, all_solutions):\n",
    "        sorted_solutions = sorted(all_solutions, key=lambda s: s.total_value, reverse=True)\n",
    "        for solution in sorted_solutions[:self.n_best]:\n",
    "            for idx in solution.items:\n",
    "                self.pheromone[idx] += solution.total_value / sum(item.value for item in self.knapsack.items)\n",
    "\n",
    "    def gen_all_solutions(self):\n",
    "        return [self.gen_solution() for _ in range(self.n_ants)]\n",
    "\n",
    "    def gen_solution(self):\n",
    "        solution = ACOSolution(self.knapsack, self.pheromone, self.alpha, self.beta)\n",
    "        solution.generate_solution()\n",
    "        return solution\n",
    "\n",
    "class Solution:\n",
    "    def __init__(self, knapsack):\n",
    "        self.knapsack = knapsack\n",
    "        self.items = []\n",
    "        self.total_weight = 0\n",
    "        self.total_value = 0\n",
    "\n",
    "    def add_item(self, item_index):\n",
    "        item = self.knapsack.items[item_index]\n",
    "        if self.total_weight + item.weight <= self.knapsack.capacity:\n",
    "            self.items.append(item_index)\n",
    "            self.total_weight += item.weight\n",
    "            self.total_value += item.value\n",
    "            return True\n",
    "        return False\n",
    "\n",
    "    def __repr__(self):\n",
    "        return (f'Solution(value={self.total_value}, weight={self.total_weight}, '\n",
    "                f'items={self.items})')"
   ]
  },
  {
   "cell_type": "code",
   "execution_count": 6,
   "id": "abcfcdb6",
   "metadata": {},
   "outputs": [
    {
     "name": "stdout",
     "output_type": "stream",
     "text": [
      "Best Value: 2190\n",
      "Items: [Item(value=33, weight=23), Item(value=38, weight=28), Item(value=27, weight=19), Item(value=16, weight=10), Item(value=19, weight=13), Item(value=17, weight=11), Item(value=32, weight=21), Item(value=34, weight=22), Item(value=45, weight=29), Item(value=53, weight=38), Item(value=29, weight=21), Item(value=44, weight=28), Item(value=23, weight=15), Item(value=26, weight=18), Item(value=52, weight=37), Item(value=43, weight=31), Item(value=44, weight=33), Item(value=37, weight=24), Item(value=36, weight=25), Item(value=48, weight=32), Item(value=64, weight=48), Item(value=56, weight=41), Item(value=28, weight=20), Item(value=63, weight=47), Item(value=58, weight=43), Item(value=39, weight=25), Item(value=24, weight=17), Item(value=55, weight=40), Item(value=49, weight=34), Item(value=81, weight=58), Item(value=63, weight=47), Item(value=46, weight=30), Item(value=51, weight=37), Item(value=57, weight=42), Item(value=50, weight=35), Item(value=40, weight=27), Item(value=41, weight=26), Item(value=52, weight=36), Item(value=59, weight=44), Item(value=20, weight=16), Item(value=47, weight=33), Item(value=22, weight=14), Item(value=50, weight=35), Item(value=30, weight=15), Item(value=61, weight=45), Item(value=67, weight=52), Item(value=58, weight=43), Item(value=54, weight=39), Item(value=66, weight=51), Item(value=25, weight=19), Item(value=18, weight=12)]\n"
     ]
    }
   ],
   "source": [
    "aco = ACO(\n",
    "    knapsack,\n",
    "    n_ants=50, n_best=10, n_iterations=100,\n",
    "    decay=0.95, alpha=1, beta=2\n",
    ")\n",
    "best_solution, best_value = aco.run()\n",
    "\n",
    "print(\"Best Value:\", best_value)\n",
    "print(\"Items:\", [knapsack.items[i] for i in best_solution])"
   ]
  }
 ],
 "metadata": {
  "kernelspec": {
   "display_name": ".venv",
   "language": "python",
   "name": "python3"
  },
  "language_info": {
   "codemirror_mode": {
    "name": "ipython",
    "version": 3
   },
   "file_extension": ".py",
   "mimetype": "text/x-python",
   "name": "python",
   "nbconvert_exporter": "python",
   "pygments_lexer": "ipython3",
   "version": "3.12.7"
  }
 },
 "nbformat": 4,
 "nbformat_minor": 5
}
