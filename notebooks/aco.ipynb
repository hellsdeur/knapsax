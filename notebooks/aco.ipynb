{
 "cells": [
  {
   "cell_type": "code",
   "execution_count": 1,
   "id": "1f2a3fcb",
   "metadata": {},
   "outputs": [
    {
     "data": {
      "text/plain": [
       "'Directory knapsax successfully loaded as current working directory.'"
      ]
     },
     "execution_count": 1,
     "metadata": {},
     "output_type": "execute_result"
    }
   ],
   "source": [
    "from knapsax.utils import setrootdir\n",
    "\n",
    "setrootdir(\"knapsax\")"
   ]
  },
  {
   "cell_type": "code",
   "execution_count": 2,
   "id": "dcc107dd",
   "metadata": {},
   "outputs": [],
   "source": [
    "import numpy as np\n",
    "import pandas as pd\n",
    "import matplotlib.pyplot as plt\n",
    "import seaborn as sns\n",
    "\n",
    "from knapsax.optimization import Problem, Maximize, Solution, Knapsack\n",
    "from knapsax.aco import ACO\n",
    "from knapsax.stats import Stats"
   ]
  },
  {
   "cell_type": "code",
   "execution_count": 3,
   "id": "aa883384",
   "metadata": {},
   "outputs": [
    {
     "data": {
      "text/plain": [
       "Knapsack(file=data/knapsack-instance.txt, n_items=100, capacity=1550)"
      ]
     },
     "execution_count": 3,
     "metadata": {},
     "output_type": "execute_result"
    }
   ],
   "source": [
    "knapsack = Knapsack(instance_file=\"data/knapsack-instance.txt\")\n",
    "knapsack"
   ]
  },
  {
   "cell_type": "code",
   "execution_count": 5,
   "id": "1dae148b",
   "metadata": {},
   "outputs": [],
   "source": [
    "aco = ACO(\n",
    "    knapsack=knapsack,\n",
    "    n_ants=200, n_iterations=100, decay=0.95,\n",
    "    pheromone_intensity=0.00001, n_best=3,\n",
    "    alpha=1, beta=1\n",
    ")"
   ]
  },
  {
   "cell_type": "code",
   "execution_count": 6,
   "id": "67e858a6",
   "metadata": {},
   "outputs": [
    {
     "data": {
      "text/plain": [
       "(array([2047, 2056, 2056, 2056, 2057, 2068, 2068, 2068, 2068, 2068, 2083,\n",
       "        2083, 2083, 2090, 2090, 2090, 2090, 2091, 2091, 2091, 2105, 2115,\n",
       "        2115, 2115, 2115, 2115, 2115, 2115, 2115, 2115, 2115, 2115, 2121,\n",
       "        2121, 2129, 2129, 2129, 2137, 2137, 2137, 2137, 2137, 2137, 2137,\n",
       "        2137, 2137, 2151, 2151, 2151, 2151, 2151, 2151, 2151, 2151, 2151,\n",
       "        2156, 2164, 2164, 2164, 2164, 2164, 2164, 2164, 2164, 2164, 2164,\n",
       "        2164, 2164, 2181, 2181, 2181, 2181, 2181, 2181, 2181, 2181, 2181,\n",
       "        2181, 2181, 2181, 2181, 2181, 2181, 2181, 2181, 2181, 2181, 2181,\n",
       "        2181, 2181, 2181, 2181, 2186, 2186, 2186, 2186, 2186, 2187, 2187,\n",
       "        2187], dtype=uint16),\n",
       " 2187,\n",
       " 1550)"
      ]
     },
     "execution_count": 6,
     "metadata": {},
     "output_type": "execute_result"
    }
   ],
   "source": [
    "aco.run()"
   ]
  },
  {
   "cell_type": "code",
   "execution_count": 7,
   "id": "dc995f19",
   "metadata": {},
   "outputs": [
    {
     "name": "stderr",
     "output_type": "stream",
     "text": [
      "Running <class 'knapsax.aco.ACO'>:   0%|          | 0/20 [04:21<?, ?run/s]\n"
     ]
    },
    {
     "ename": "KeyboardInterrupt",
     "evalue": "",
     "output_type": "error",
     "traceback": [
      "\u001b[31m---------------------------------------------------------------------------\u001b[39m",
      "\u001b[31mKeyboardInterrupt\u001b[39m                         Traceback (most recent call last)",
      "\u001b[36mCell\u001b[39m\u001b[36m \u001b[39m\u001b[32mIn[7]\u001b[39m\u001b[32m, line 6\u001b[39m\n\u001b[32m      1\u001b[39m aco_stats = Stats(\n\u001b[32m      2\u001b[39m     n_runs=\u001b[32m20\u001b[39m,\n\u001b[32m      3\u001b[39m     algorithm_instance=aco\n\u001b[32m      4\u001b[39m )\n\u001b[32m----> \u001b[39m\u001b[32m6\u001b[39m \u001b[43maco_stats\u001b[49m\u001b[43m.\u001b[49m\u001b[43mrun\u001b[49m\u001b[43m(\u001b[49m\u001b[43m)\u001b[49m\n",
      "\u001b[36mFile \u001b[39m\u001b[32m~/Code/ufpa/knapsax/knapsax/stats.py:31\u001b[39m, in \u001b[36mStats.run\u001b[39m\u001b[34m(self)\u001b[39m\n\u001b[32m     29\u001b[39m start_time = time.time()\n\u001b[32m     30\u001b[39m tracemalloc.start()\n\u001b[32m---> \u001b[39m\u001b[32m31\u001b[39m best_solution, best_value, best_weight = \u001b[38;5;28;43mself\u001b[39;49m\u001b[43m.\u001b[49m\u001b[43malgorithm_instance\u001b[49m\u001b[43m.\u001b[49m\u001b[43mrun\u001b[49m\u001b[43m(\u001b[49m\u001b[43m)\u001b[49m\n\u001b[32m     32\u001b[39m current, peak = tracemalloc.get_traced_memory()\n\u001b[32m     33\u001b[39m tracemalloc.stop()\n",
      "\u001b[36mFile \u001b[39m\u001b[32m~/Code/ufpa/knapsax/knapsax/aco.py:49\u001b[39m, in \u001b[36mACO.run\u001b[39m\u001b[34m(self)\u001b[39m\n\u001b[32m     46\u001b[39m fitness = np.zeros((\u001b[38;5;28mself\u001b[39m.n_ants,), dtype=np.uint16)\n\u001b[32m     48\u001b[39m \u001b[38;5;28;01mfor\u001b[39;00m ant \u001b[38;5;129;01min\u001b[39;00m \u001b[38;5;28mrange\u001b[39m(\u001b[38;5;28mself\u001b[39m.n_ants):\n\u001b[32m---> \u001b[39m\u001b[32m49\u001b[39m     path = \u001b[38;5;28;43mself\u001b[39;49m\u001b[43m.\u001b[49m\u001b[43mconstruct_solution\u001b[49m\u001b[43m(\u001b[49m\u001b[43m)\u001b[49m\n\u001b[32m     50\u001b[39m     solution = ACOSolution(path, \u001b[38;5;28mself\u001b[39m.items)\n\u001b[32m     51\u001b[39m     solutions.append(solution)\n",
      "\u001b[36mFile \u001b[39m\u001b[32m~/Code/ufpa/knapsax/knapsax/aco.py:80\u001b[39m, in \u001b[36mACO.construct_solution\u001b[39m\u001b[34m(self)\u001b[39m\n\u001b[32m     78\u001b[39m \u001b[38;5;28;01mfor\u001b[39;00m i \u001b[38;5;129;01min\u001b[39;00m \u001b[38;5;28mrange\u001b[39m(\u001b[38;5;28mself\u001b[39m.nbr_items):\n\u001b[32m     79\u001b[39m     \u001b[38;5;28;01mif\u001b[39;00m available[i]:\n\u001b[32m---> \u001b[39m\u001b[32m80\u001b[39m         probabilities[i] = (\u001b[38;5;28mself\u001b[39m.pheromones[i] ** \u001b[38;5;28mself\u001b[39m.alpha) * (\u001b[38;5;28mself\u001b[39m.heuristics[i] ** \u001b[38;5;28mself\u001b[39m.beta)\n\u001b[32m     82\u001b[39m total = np.sum(probabilities)\n\u001b[32m     83\u001b[39m \u001b[38;5;28;01mif\u001b[39;00m total == \u001b[32m0\u001b[39m:\n",
      "\u001b[31mKeyboardInterrupt\u001b[39m: "
     ]
    }
   ],
   "source": [
    "aco_stats = Stats(\n",
    "    n_runs=20,\n",
    "    algorithm_instance=aco\n",
    ")\n",
    "\n",
    "aco_stats.run()"
   ]
  },
  {
   "cell_type": "code",
   "execution_count": null,
   "id": "eeec33ab",
   "metadata": {},
   "outputs": [],
   "source": [
    "df_aco = aco_stats.frame()\n",
    "df_aco"
   ]
  },
  {
   "cell_type": "code",
   "execution_count": null,
   "id": "ccee9a8f",
   "metadata": {},
   "outputs": [],
   "source": [
    "aco_stats.plot_convergence(\n",
    "    title=\"Convergência do ACO para o problema da mochila\",\n",
    "    savefig=\"results/aco_convergence.png\"\n",
    ")"
   ]
  }
 ],
 "metadata": {
  "kernelspec": {
   "display_name": ".venv",
   "language": "python",
   "name": "python3"
  },
  "language_info": {
   "codemirror_mode": {
    "name": "ipython",
    "version": 3
   },
   "file_extension": ".py",
   "mimetype": "text/x-python",
   "name": "python",
   "nbconvert_exporter": "python",
   "pygments_lexer": "ipython3",
   "version": "3.12.7"
  }
 },
 "nbformat": 4,
 "nbformat_minor": 5
}
