{
 "cells": [
  {
   "cell_type": "code",
   "execution_count": 1,
   "id": "b047c216",
   "metadata": {},
   "outputs": [
    {
     "data": {
      "text/plain": [
       "'Directory knapsax successfully loaded as current working directory.'"
      ]
     },
     "execution_count": 1,
     "metadata": {},
     "output_type": "execute_result"
    }
   ],
   "source": [
    "from knapsax.utils import setrootdir\n",
    "\n",
    "setrootdir(\"knapsax\")"
   ]
  },
  {
   "cell_type": "code",
   "execution_count": 8,
   "id": "b18e59a9",
   "metadata": {},
   "outputs": [],
   "source": [
    "from knapsax.optimization import Knapsack, Solution, ObjectiveFunction, Maximize"
   ]
  },
  {
   "cell_type": "markdown",
   "id": "7f14c02a",
   "metadata": {},
   "source": [
    "# 1. Knapsack"
   ]
  },
  {
   "cell_type": "markdown",
   "id": "4039bcdd",
   "metadata": {},
   "source": [
    "O problema da mochila está implementado pela classe `Knapsack`, que recebe como parâmetro o caminho de um arquivo `instance_file`, com a seguinte configuração:\n",
    "\n",
    "- a primeira linha apresenta a quantidade de itens;\n",
    "- a segunda linha apresenta a capacidade da mochila;\n",
    "- a partir da terceira uma dupla de números onde o primeiro equivale ao valor do item e o segundo ao peso do mesmo."
   ]
  },
  {
   "cell_type": "code",
   "execution_count": 3,
   "id": "f9d23a2c",
   "metadata": {},
   "outputs": [
    {
     "data": {
      "text/plain": [
       "Knapsack(file=data/knapsack-instance.txt, n_instances=100, capacity=1550)"
      ]
     },
     "execution_count": 3,
     "metadata": {},
     "output_type": "execute_result"
    }
   ],
   "source": [
    "knapsack = Knapsack(instance_file=\"data/knapsack-instance.txt\")\n",
    "knapsack"
   ]
  },
  {
   "cell_type": "markdown",
   "id": "c9f6a72c",
   "metadata": {},
   "source": [
    "# 2. Solution"
   ]
  },
  {
   "cell_type": "markdown",
   "id": "0bcc447b",
   "metadata": {},
   "source": [
    "Uma solução qualquer para o problema da mochila está implementada pela classe `Solution`. Essa classe requer a passagem de uma instância `knapsack` do problema da mochila, de onde vai colher os itens que compõem uma solução admissível para o mesmo."
   ]
  },
  {
   "cell_type": "code",
   "execution_count": null,
   "id": "248a4246",
   "metadata": {},
   "outputs": [
    {
     "data": {
      "text/plain": [
       "Solution(value=1945, weight=1504, n_items=34)"
      ]
     },
     "execution_count": 4,
     "metadata": {},
     "output_type": "execute_result"
    }
   ],
   "source": [
    "solution = Solution(knapsack=knapsack)\n",
    "solution"
   ]
  },
  {
   "cell_type": "markdown",
   "id": "e2672bd1",
   "metadata": {},
   "source": [
    "# 3. Problem"
   ]
  },
  {
   "cell_type": "markdown",
   "id": "2c341467",
   "metadata": {},
   "source": [
    "As considerações de um problema de otimização foram modeladas em uma superclasse `Problem`, um esboço para a implementação das classes que de fato definem o problema, `Minimize` e `Maximize`. Ao instanciar um desses tipos de problema, o objeto fica disponível para computar a condição de melhoria de custos de qualquer algoritmo de otimização ao retornar um booleano que responda ao problema, bastando passar os seguintes parâmetros:\n",
    "\n",
    "- `new_cost`: novo custo alcançado por uma solução vizinha à atual;\n",
    "- `best_cost`: melhor custo encontrado pelo algoritmo até o momento."
   ]
  },
  {
   "cell_type": "code",
   "execution_count": 14,
   "id": "3bdce7a9",
   "metadata": {},
   "outputs": [],
   "source": [
    "problem = Maximize()"
   ]
  },
  {
   "cell_type": "markdown",
   "id": "cc6a994c",
   "metadata": {},
   "source": [
    "Vamos iniciar uma nova solução, o que representa uma movimentação no espaço de busca de um algoritmo de otimização genérico. Para o AG, isso seria feito pelos operadores genéticos, enquanto que no PSO isso seria feito pelo movimento das partículas pelo movimento das partículas, definido pela equação da velocidade."
   ]
  },
  {
   "cell_type": "code",
   "execution_count": 9,
   "id": "c0526654",
   "metadata": {},
   "outputs": [
    {
     "data": {
      "text/plain": [
       "Solution(value=2028, weight=1522, n_items=39)"
      ]
     },
     "execution_count": 9,
     "metadata": {},
     "output_type": "execute_result"
    }
   ],
   "source": [
    "new_solution = Solution(knapsack)\n",
    "new_solution"
   ]
  },
  {
   "cell_type": "markdown",
   "id": "227e1877",
   "metadata": {},
   "source": [
    "Considerando o custo da solução gerada na seção 2 como o `best_cost`, podemos aplicar o problema, independente de se tratar de maximização ou minimização."
   ]
  },
  {
   "cell_type": "code",
   "execution_count": null,
   "id": "8cad2ecd",
   "metadata": {},
   "outputs": [
    {
     "data": {
      "text/plain": [
       "True"
      ]
     },
     "execution_count": 13,
     "metadata": {},
     "output_type": "execute_result"
    }
   ],
   "source": [
    "problem(new_cost=new_solution.total_value, best_cost=solution.total_value)"
   ]
  }
 ],
 "metadata": {
  "kernelspec": {
   "display_name": ".venv",
   "language": "python",
   "name": "python3"
  },
  "language_info": {
   "codemirror_mode": {
    "name": "ipython",
    "version": 3
   },
   "file_extension": ".py",
   "mimetype": "text/x-python",
   "name": "python",
   "nbconvert_exporter": "python",
   "pygments_lexer": "ipython3",
   "version": "3.12.7"
  }
 },
 "nbformat": 4,
 "nbformat_minor": 5
}
