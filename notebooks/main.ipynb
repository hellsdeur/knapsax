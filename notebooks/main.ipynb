{
 "cells": [
  {
   "cell_type": "code",
   "execution_count": 1,
   "id": "b047c216",
   "metadata": {},
   "outputs": [
    {
     "data": {
      "text/plain": [
       "'Directory knapsax successfully loaded as current working directory.'"
      ]
     },
     "execution_count": 1,
     "metadata": {},
     "output_type": "execute_result"
    }
   ],
   "source": [
    "# permite a utilização de caminhos relativos ao projeto, mesmo no diretório de notebooks\n",
    "\n",
    "from knapsax.utils import setrootdir\n",
    "\n",
    "setrootdir(\"knapsax\")"
   ]
  },
  {
   "cell_type": "code",
   "execution_count": 2,
   "id": "b18e59a9",
   "metadata": {},
   "outputs": [],
   "source": [
    "from knapsax.optimization import Knapsack, Solution, ObjectiveFunction, Maximize"
   ]
  },
  {
   "cell_type": "markdown",
   "id": "7f14c02a",
   "metadata": {},
   "source": [
    "# 1. Knapsack"
   ]
  },
  {
   "cell_type": "markdown",
   "id": "4039bcdd",
   "metadata": {},
   "source": [
    "O problema da mochila está implementado pela classe `Knapsack`, que recebe como parâmetro o caminho de um arquivo `instance_file`, com a seguinte configuração:\n",
    "\n",
    "- a primeira linha apresenta a quantidade de itens;\n",
    "- a segunda linha apresenta a capacidade da mochila;\n",
    "- a partir da terceira uma dupla de números onde o primeiro equivale ao valor do item e o segundo ao peso do mesmo."
   ]
  },
  {
   "cell_type": "code",
   "execution_count": 3,
   "id": "f9d23a2c",
   "metadata": {},
   "outputs": [
    {
     "data": {
      "text/plain": [
       "Knapsack(file=data/knapsack-instance.txt, n_items=100, capacity=1550)"
      ]
     },
     "execution_count": 3,
     "metadata": {},
     "output_type": "execute_result"
    }
   ],
   "source": [
    "knapsack = Knapsack(instance_file=\"data/knapsack-instance.txt\")\n",
    "knapsack"
   ]
  },
  {
   "cell_type": "markdown",
   "id": "fa559779",
   "metadata": {},
   "source": [
    "Os atributos de um `Knapsack` podem ser acessados individualmente."
   ]
  },
  {
   "cell_type": "code",
   "execution_count": 4,
   "id": "1d9fe757",
   "metadata": {},
   "outputs": [
    {
     "name": "stdout",
     "output_type": "stream",
     "text": [
      "Knapsack file: data/knapsack-instance.txt\n",
      "Number of items: 100\n",
      "Capacity: 1550\n",
      "Items: [Item(value=91, weight=74), Item(value=20, weight=16), Item(value=81, weight=58), Item(value=50, weight=35), Item(value=76, weight=72), Item(value=30, weight=15), Item(value=85, weight=77), Item(value=65, weight=52), Item(value=44, weight=28), Item(value=70, weight=63), Item(value=60, weight=45), Item(value=25, weight=19), Item(value=88, weight=66), Item(value=55, weight=40), Item(value=33, weight=23), Item(value=95, weight=81), Item(value=18, weight=12), Item(value=62, weight=50), Item(value=42, weight=31), Item(value=75, weight=68), Item(value=51, weight=37), Item(value=68, weight=54), Item(value=39, weight=25), Item(value=90, weight=79), Item(value=58, weight=43), Item(value=72, weight=60), Item(value=29, weight=21), Item(value=64, weight=48), Item(value=82, weight=70), Item(value=47, weight=33), Item(value=78, weight=64), Item(value=40, weight=27), Item(value=71, weight=56), Item(value=54, weight=39), Item(value=89, weight=75), Item(value=26, weight=18), Item(value=77, weight=62), Item(value=63, weight=47), Item(value=45, weight=29), Item(value=84, weight=76), Item(value=22, weight=14), Item(value=69, weight=53), Item(value=52, weight=36), Item(value=80, weight=67), Item(value=37, weight=24), Item(value=61, weight=49), Item(value=83, weight=71), Item(value=48, weight=32), Item(value=73, weight=59), Item(value=57, weight=42), Item(value=92, weight=78), Item(value=24, weight=17), Item(value=67, weight=55), Item(value=53, weight=38), Item(value=86, weight=73), Item(value=28, weight=20), Item(value=66, weight=51), Item(value=79, weight=69), Item(value=49, weight=34), Item(value=74, weight=61), Item(value=41, weight=26), Item(value=70, weight=57), Item(value=59, weight=44), Item(value=94, weight=80), Item(value=19, weight=13), Item(value=76, weight=65), Item(value=46, weight=30), Item(value=60, weight=46), Item(value=34, weight=22), Item(value=75, weight=63), Item(value=56, weight=41), Item(value=17, weight=11), Item(value=65, weight=50), Item(value=87, weight=77), Item(value=16, weight=10), Item(value=68, weight=54), Item(value=50, weight=35), Item(value=81, weight=72), Item(value=27, weight=19), Item(value=62, weight=48), Item(value=78, weight=66), Item(value=43, weight=31), Item(value=72, weight=58), Item(value=61, weight=45), Item(value=93, weight=82), Item(value=23, weight=15), Item(value=71, weight=60), Item(value=52, weight=37), Item(value=85, weight=74), Item(value=38, weight=28), Item(value=67, weight=52), Item(value=80, weight=69), Item(value=36, weight=25), Item(value=63, weight=47), Item(value=77, weight=64), Item(value=44, weight=33), Item(value=70, weight=59), Item(value=58, weight=43), Item(value=88, weight=76), Item(value=32, weight=21)]\n"
     ]
    }
   ],
   "source": [
    "print(f\"Knapsack file: {knapsack.instance_file}\")\n",
    "print(f\"Number of items: {knapsack.n_items}\")\n",
    "print(f\"Capacity: {knapsack.capacity}\")\n",
    "print(f\"Items: {knapsack.items}\")"
   ]
  },
  {
   "cell_type": "markdown",
   "id": "c9f6a72c",
   "metadata": {},
   "source": [
    "# 2. Solution"
   ]
  },
  {
   "cell_type": "markdown",
   "id": "0bcc447b",
   "metadata": {},
   "source": [
    "Uma solução qualquer para o problema da mochila está implementada pela classe `Solution`. Essa classe requer a passagem de uma instância `knapsack` do problema da mochila, de onde vai colher os itens que compõem uma solução admissível para o mesmo."
   ]
  },
  {
   "cell_type": "code",
   "execution_count": 5,
   "id": "248a4246",
   "metadata": {},
   "outputs": [
    {
     "data": {
      "text/plain": [
       "Solution(value=1876, weight=1486, n_items=32)"
      ]
     },
     "execution_count": 5,
     "metadata": {},
     "output_type": "execute_result"
    }
   ],
   "source": [
    "solution = Solution(knapsack=knapsack)\n",
    "solution"
   ]
  },
  {
   "cell_type": "markdown",
   "id": "246c4d54",
   "metadata": {},
   "source": [
    "Para acessar os dados, utilize os atributos:"
   ]
  },
  {
   "cell_type": "code",
   "execution_count": 6,
   "id": "a3310929",
   "metadata": {},
   "outputs": [
    {
     "name": "stdout",
     "output_type": "stream",
     "text": [
      "Solution items: [Item(value=36, weight=25), Item(value=18, weight=12), Item(value=80, weight=67), Item(value=76, weight=65), Item(value=71, weight=60), Item(value=74, weight=61), Item(value=48, weight=32), Item(value=23, weight=15), Item(value=33, weight=23), Item(value=76, weight=72), Item(value=49, weight=34), Item(value=17, weight=11), Item(value=44, weight=28), Item(value=58, weight=43), Item(value=85, weight=74), Item(value=91, weight=74), Item(value=55, weight=40), Item(value=93, weight=82), Item(value=80, weight=67), Item(value=51, weight=37), Item(value=63, weight=47), Item(value=91, weight=74), Item(value=57, weight=42), Item(value=42, weight=31), Item(value=76, weight=72), Item(value=32, weight=21), Item(value=74, weight=61), Item(value=70, weight=57), Item(value=60, weight=46), Item(value=30, weight=15), Item(value=40, weight=27), Item(value=83, weight=71)]\n",
      "Solution total value: 1876\n",
      "Solution total weight: 1486\n"
     ]
    }
   ],
   "source": [
    "print(f\"Solution items: {solution.x}\")\n",
    "print(f\"Solution total value: {solution.total_value}\")\n",
    "print(f\"Solution total weight: {solution.total_weight}\")"
   ]
  },
  {
   "cell_type": "markdown",
   "id": "e2672bd1",
   "metadata": {},
   "source": [
    "# 3. Problem"
   ]
  },
  {
   "cell_type": "markdown",
   "id": "2c341467",
   "metadata": {},
   "source": [
    "As considerações de um problema de otimização foram modeladas em uma superclasse `Problem`, um esboço para a implementação das classes que de fato definem o problema, `Minimize` e `Maximize`. Ao instanciar um desses tipos de problema, o objeto fica disponível para computar a condição de melhoria de custos de qualquer algoritmo de otimização ao retornar um booleano que responda ao problema, bastando passar os seguintes parâmetros:\n",
    "\n",
    "- `new_cost`: novo custo alcançado por uma solução vizinha à atual;\n",
    "- `best_cost`: melhor custo encontrado pelo algoritmo até o momento."
   ]
  },
  {
   "cell_type": "code",
   "execution_count": 7,
   "id": "3bdce7a9",
   "metadata": {},
   "outputs": [],
   "source": [
    "problem = Maximize()"
   ]
  },
  {
   "cell_type": "markdown",
   "id": "cc6a994c",
   "metadata": {},
   "source": [
    "Vamos iniciar uma nova solução, o que representa uma movimentação no espaço de busca de um algoritmo de otimização genérico. Para o AG, isso seria feito pelos operadores genéticos, enquanto que no PSO isso seria feito pelo movimento das partículas pelo movimento das partículas, definido pela equação da velocidade."
   ]
  },
  {
   "cell_type": "code",
   "execution_count": 8,
   "id": "c0526654",
   "metadata": {},
   "outputs": [
    {
     "data": {
      "text/plain": [
       "Solution(value=1913, weight=1515, n_items=34)"
      ]
     },
     "execution_count": 8,
     "metadata": {},
     "output_type": "execute_result"
    }
   ],
   "source": [
    "new_solution = Solution(knapsack)\n",
    "new_solution"
   ]
  },
  {
   "cell_type": "markdown",
   "id": "227e1877",
   "metadata": {},
   "source": [
    "Considerando o custo da solução gerada na seção 2 como o `best_cost`, podemos aplicar o problema, independente de se tratar de maximização ou minimização."
   ]
  },
  {
   "cell_type": "code",
   "execution_count": 9,
   "id": "8cad2ecd",
   "metadata": {},
   "outputs": [
    {
     "data": {
      "text/plain": [
       "True"
      ]
     },
     "execution_count": 9,
     "metadata": {},
     "output_type": "execute_result"
    }
   ],
   "source": [
    "problem(new_cost=new_solution.total_value, best_cost=solution.total_value)"
   ]
  }
 ],
 "metadata": {
  "kernelspec": {
   "display_name": ".venv",
   "language": "python",
   "name": "python3"
  },
  "language_info": {
   "codemirror_mode": {
    "name": "ipython",
    "version": 3
   },
   "file_extension": ".py",
   "mimetype": "text/x-python",
   "name": "python",
   "nbconvert_exporter": "python",
   "pygments_lexer": "ipython3",
   "version": "3.12.7"
  }
 },
 "nbformat": 4,
 "nbformat_minor": 5
}
